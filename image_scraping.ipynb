{
 "cells": [
  {
   "cell_type": "markdown",
   "metadata": {},
   "source": [
    "Notebook for scraping image data"
   ]
  },
  {
   "cell_type": "code",
   "execution_count": 1,
   "metadata": {},
   "outputs": [],
   "source": [
    "# imports\n",
    "import urllib.request\n",
    "from PIL import Image\n",
    "import matplotlib.pyplot as plt\n",
    "import numpy as np\n",
    "import pandas as pd"
   ]
  },
  {
   "cell_type": "code",
   "execution_count": 2,
   "metadata": {},
   "outputs": [
    {
     "name": "stdout",
     "output_type": "stream",
     "text": [
      "<class 'pandas.core.frame.DataFrame'>\n",
      "RangeIndex: 700 entries, 0 to 699\n",
      "Data columns (total 7 columns):\n",
      " #   Column     Non-Null Count  Dtype \n",
      "---  ------     --------------  ----- \n",
      " 0   Id         700 non-null    int64 \n",
      " 1   Title      700 non-null    object\n",
      " 2   Year       700 non-null    int64 \n",
      " 3   Title_URL  700 non-null    object\n",
      " 4   Image      700 non-null    object\n",
      " 5   Artist     700 non-null    object\n",
      " 6   Decade     700 non-null    int64 \n",
      "dtypes: int64(3), object(4)\n",
      "memory usage: 38.4+ KB\n"
     ]
    }
   ],
   "source": [
    "# load data\n",
    "\n",
    "df = pd.read_csv('./data/art_era_ai_df.csv')\n",
    "df.info()"
   ]
  },
  {
   "cell_type": "code",
   "execution_count": 11,
   "metadata": {},
   "outputs": [
    {
     "name": "stdout",
     "output_type": "stream",
     "text": [
      "0\n",
      "100\n",
      "200\n",
      "300\n",
      "An exception occurred on id 350\n",
      "400\n",
      "An exception occurred on id 423\n",
      "An exception occurred on id 430\n",
      "An exception occurred on id 482\n",
      "500\n",
      "600\n",
      "An exception occurred on id 620\n"
     ]
    }
   ],
   "source": [
    "# save images\n",
    "for i in range(len(df)):\n",
    "    url = df.loc[i, \"Image\"]\n",
    "    id = df.loc[i, \"Id\"] \n",
    "    \n",
    "    if(i % 100 == 0):\n",
    "        print(i)\n",
    "    \n",
    "    try:\n",
    "        urllib.request.urlretrieve(url, \"./data/images/\" + str(id) + \".png\")\n",
    "    except: \n",
    "        print(\"An exception occurred on id \" + str(i))"
   ]
  }
 ],
 "metadata": {
  "kernelspec": {
   "display_name": "base",
   "language": "python",
   "name": "python3"
  },
  "language_info": {
   "codemirror_mode": {
    "name": "ipython",
    "version": 3
   },
   "file_extension": ".py",
   "mimetype": "text/x-python",
   "name": "python",
   "nbconvert_exporter": "python",
   "pygments_lexer": "ipython3",
   "version": "3.9.13"
  }
 },
 "nbformat": 4,
 "nbformat_minor": 2
}
