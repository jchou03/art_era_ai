{
  "cells": [
    {
      "cell_type": "markdown",
      "metadata": {
        "id": "view-in-github",
        "colab_type": "text"
      },
      "source": [
        "<a href=\"https://colab.research.google.com/github/jchou03/art_era_ai/blob/main/art_era_ai.ipynb\" target=\"_parent\"><img src=\"https://colab.research.google.com/assets/colab-badge.svg\" alt=\"Open In Colab\"/></a>"
      ]
    },
    {
      "cell_type": "markdown",
      "metadata": {
        "id": "7wNnHQ_V5vYG"
      },
      "source": [
        "# DATA UPLOAD"
      ]
    },
    {
      "cell_type": "code",
      "execution_count": 2,
      "metadata": {
        "colab": {
          "base_uri": "https://localhost:8080/"
        },
        "id": "P22AqmYLjAs9",
        "outputId": "768cc956-fbe8-44e4-8ba1-d1aa004f882a"
      },
      "outputs": [
        {
          "output_type": "stream",
          "name": "stdout",
          "text": [
            "Mounted at /content/drive\n",
            "<class 'pandas.core.frame.DataFrame'>\n",
            "RangeIndex: 699 entries, 0 to 698\n",
            "Data columns (total 7 columns):\n",
            " #   Column                                                                                     Non-Null Count  Dtype \n",
            "---  ------                                                                                     --------------  ----- \n",
            " 0   https://www.artic.edu/iiif/2/a28e4e8f-f072-092a-52f9-b165c97c7a0a/full/600,/0/default.jpg  699 non-null    int64 \n",
            " 1   Title                                                                                      699 non-null    object\n",
            " 2   Year                                                                                       699 non-null    int64 \n",
            " 3   Title_URL                                                                                  699 non-null    object\n",
            " 4   Image                                                                                      699 non-null    object\n",
            " 5   Artist                                                                                     699 non-null    object\n",
            " 6   Decade                                                                                     699 non-null    int64 \n",
            "dtypes: int64(3), object(4)\n",
            "memory usage: 38.4+ KB\n",
            "<class 'pandas.core.frame.DataFrame'>\n",
            "RangeIndex: 1488 entries, 0 to 1487\n",
            "Data columns (total 5 columns):\n",
            " #   Column     Non-Null Count  Dtype \n",
            "---  ------     --------------  ----- \n",
            " 0   Title      1488 non-null   object\n",
            " 1   Title_URL  1488 non-null   object\n",
            " 2   Image      1488 non-null   object\n",
            " 3   Field      1488 non-null   object\n",
            " 4   Text       1488 non-null   object\n",
            "dtypes: object(5)\n",
            "memory usage: 58.2+ KB\n"
          ]
        }
      ],
      "source": [
        "import matplotlib.pyplot as plt\n",
        "import numpy as np\n",
        "import pandas as pd\n",
        "from google.colab import drive\n",
        "from google.colab import files\n",
        "import cv2 as cv\n",
        "from google.colab.patches import cv2_imshow # for image display\n",
        "from skimage import io\n",
        "from PIL import Image\n",
        "import matplotlib.pylab as plt\n",
        "import random\n",
        "from random import sample\n",
        "import zipfile\n",
        "from PIL import Image\n",
        "import os\n",
        "import numpy as np\n",
        "import seaborn as sns\n",
        "\n",
        "\n",
        "drive.mount('/content/drive')\n",
        "\n",
        "df = pd.read_csv('/content/drive/MyDrive/Colab Data/art_era_ai_df.csv')\n",
        "df.info()\n",
        "\n",
        "dfextension = pd.read_csv('/content/drive/MyDrive/Colab Data/GuggenheimScrape.csv')\n",
        "dfextension.info()"
      ]
    },
    {
      "cell_type": "code",
      "source": [
        "dfextension[\"Decade\"] = dfextension['Text'].str.extract(r'(\\d{4})', expand=False)\n",
        "dfextension[\"Decade\"] = dfextension[\"Decade\"].astype(int)\n",
        "dfextension.head()"
      ],
      "metadata": {
        "colab": {
          "base_uri": "https://localhost:8080/"
        },
        "id": "HLja6aGT2isT",
        "outputId": "39e1efea-5881-42c1-8428-66bc77975acb"
      },
      "execution_count": null,
      "outputs": [
        {
          "output_type": "execute_result",
          "data": {
            "text/plain": [
              "                                               Image                 Title  \\\n",
              "0  https://www.guggenheim.org/wp-content/uploads/...  Alexander Archipenko   \n",
              "1  https://www.guggenheim.org/wp-content/uploads/...  Alexander Archipenko   \n",
              "2  https://www.guggenheim.org/wp-content/uploads/...  Alexander Archipenko   \n",
              "3  https://www.guggenheim.org/wp-content/uploads/...         Giacomo Balla   \n",
              "4  https://www.guggenheim.org/wp-content/uploads/...         Giacomo Balla   \n",
              "\n",
              "                 Text  Decade  \n",
              "0  Art from the 1910s    1910  \n",
              "1  Art from the 1910s    1910  \n",
              "2  Art from the 1910s    1910  \n",
              "3  Art from the 1910s    1910  \n",
              "4  Art from the 1910s    1910  "
            ],
            "text/html": [
              "\n",
              "  <div id=\"df-ea3b0f44-0325-48ce-b356-9855c90e15bd\" class=\"colab-df-container\">\n",
              "    <div>\n",
              "<style scoped>\n",
              "    .dataframe tbody tr th:only-of-type {\n",
              "        vertical-align: middle;\n",
              "    }\n",
              "\n",
              "    .dataframe tbody tr th {\n",
              "        vertical-align: top;\n",
              "    }\n",
              "\n",
              "    .dataframe thead th {\n",
              "        text-align: right;\n",
              "    }\n",
              "</style>\n",
              "<table border=\"1\" class=\"dataframe\">\n",
              "  <thead>\n",
              "    <tr style=\"text-align: right;\">\n",
              "      <th></th>\n",
              "      <th>Image</th>\n",
              "      <th>Title</th>\n",
              "      <th>Text</th>\n",
              "      <th>Decade</th>\n",
              "    </tr>\n",
              "  </thead>\n",
              "  <tbody>\n",
              "    <tr>\n",
              "      <th>0</th>\n",
              "      <td>https://www.guggenheim.org/wp-content/uploads/...</td>\n",
              "      <td>Alexander Archipenko</td>\n",
              "      <td>Art from the 1910s</td>\n",
              "      <td>1910</td>\n",
              "    </tr>\n",
              "    <tr>\n",
              "      <th>1</th>\n",
              "      <td>https://www.guggenheim.org/wp-content/uploads/...</td>\n",
              "      <td>Alexander Archipenko</td>\n",
              "      <td>Art from the 1910s</td>\n",
              "      <td>1910</td>\n",
              "    </tr>\n",
              "    <tr>\n",
              "      <th>2</th>\n",
              "      <td>https://www.guggenheim.org/wp-content/uploads/...</td>\n",
              "      <td>Alexander Archipenko</td>\n",
              "      <td>Art from the 1910s</td>\n",
              "      <td>1910</td>\n",
              "    </tr>\n",
              "    <tr>\n",
              "      <th>3</th>\n",
              "      <td>https://www.guggenheim.org/wp-content/uploads/...</td>\n",
              "      <td>Giacomo Balla</td>\n",
              "      <td>Art from the 1910s</td>\n",
              "      <td>1910</td>\n",
              "    </tr>\n",
              "    <tr>\n",
              "      <th>4</th>\n",
              "      <td>https://www.guggenheim.org/wp-content/uploads/...</td>\n",
              "      <td>Giacomo Balla</td>\n",
              "      <td>Art from the 1910s</td>\n",
              "      <td>1910</td>\n",
              "    </tr>\n",
              "  </tbody>\n",
              "</table>\n",
              "</div>\n",
              "    <div class=\"colab-df-buttons\">\n",
              "\n",
              "  <div class=\"colab-df-container\">\n",
              "    <button class=\"colab-df-convert\" onclick=\"convertToInteractive('df-ea3b0f44-0325-48ce-b356-9855c90e15bd')\"\n",
              "            title=\"Convert this dataframe to an interactive table.\"\n",
              "            style=\"display:none;\">\n",
              "\n",
              "  <svg xmlns=\"http://www.w3.org/2000/svg\" height=\"24px\" viewBox=\"0 -960 960 960\">\n",
              "    <path d=\"M120-120v-720h720v720H120Zm60-500h600v-160H180v160Zm220 220h160v-160H400v160Zm0 220h160v-160H400v160ZM180-400h160v-160H180v160Zm440 0h160v-160H620v160ZM180-180h160v-160H180v160Zm440 0h160v-160H620v160Z\"/>\n",
              "  </svg>\n",
              "    </button>\n",
              "\n",
              "  <style>\n",
              "    .colab-df-container {\n",
              "      display:flex;\n",
              "      gap: 12px;\n",
              "    }\n",
              "\n",
              "    .colab-df-convert {\n",
              "      background-color: #E8F0FE;\n",
              "      border: none;\n",
              "      border-radius: 50%;\n",
              "      cursor: pointer;\n",
              "      display: none;\n",
              "      fill: #1967D2;\n",
              "      height: 32px;\n",
              "      padding: 0 0 0 0;\n",
              "      width: 32px;\n",
              "    }\n",
              "\n",
              "    .colab-df-convert:hover {\n",
              "      background-color: #E2EBFA;\n",
              "      box-shadow: 0px 1px 2px rgba(60, 64, 67, 0.3), 0px 1px 3px 1px rgba(60, 64, 67, 0.15);\n",
              "      fill: #174EA6;\n",
              "    }\n",
              "\n",
              "    .colab-df-buttons div {\n",
              "      margin-bottom: 4px;\n",
              "    }\n",
              "\n",
              "    [theme=dark] .colab-df-convert {\n",
              "      background-color: #3B4455;\n",
              "      fill: #D2E3FC;\n",
              "    }\n",
              "\n",
              "    [theme=dark] .colab-df-convert:hover {\n",
              "      background-color: #434B5C;\n",
              "      box-shadow: 0px 1px 3px 1px rgba(0, 0, 0, 0.15);\n",
              "      filter: drop-shadow(0px 1px 2px rgba(0, 0, 0, 0.3));\n",
              "      fill: #FFFFFF;\n",
              "    }\n",
              "  </style>\n",
              "\n",
              "    <script>\n",
              "      const buttonEl =\n",
              "        document.querySelector('#df-ea3b0f44-0325-48ce-b356-9855c90e15bd button.colab-df-convert');\n",
              "      buttonEl.style.display =\n",
              "        google.colab.kernel.accessAllowed ? 'block' : 'none';\n",
              "\n",
              "      async function convertToInteractive(key) {\n",
              "        const element = document.querySelector('#df-ea3b0f44-0325-48ce-b356-9855c90e15bd');\n",
              "        const dataTable =\n",
              "          await google.colab.kernel.invokeFunction('convertToInteractive',\n",
              "                                                    [key], {});\n",
              "        if (!dataTable) return;\n",
              "\n",
              "        const docLinkHtml = 'Like what you see? Visit the ' +\n",
              "          '<a target=\"_blank\" href=https://colab.research.google.com/notebooks/data_table.ipynb>data table notebook</a>'\n",
              "          + ' to learn more about interactive tables.';\n",
              "        element.innerHTML = '';\n",
              "        dataTable['output_type'] = 'display_data';\n",
              "        await google.colab.output.renderOutput(dataTable, element);\n",
              "        const docLink = document.createElement('div');\n",
              "        docLink.innerHTML = docLinkHtml;\n",
              "        element.appendChild(docLink);\n",
              "      }\n",
              "    </script>\n",
              "  </div>\n",
              "\n",
              "\n",
              "<div id=\"df-121fcf1f-82f5-44c0-8d19-4a031fae25d3\">\n",
              "  <button class=\"colab-df-quickchart\" onclick=\"quickchart('df-121fcf1f-82f5-44c0-8d19-4a031fae25d3')\"\n",
              "            title=\"Suggest charts\"\n",
              "            style=\"display:none;\">\n",
              "\n",
              "<svg xmlns=\"http://www.w3.org/2000/svg\" height=\"24px\"viewBox=\"0 0 24 24\"\n",
              "     width=\"24px\">\n",
              "    <g>\n",
              "        <path d=\"M19 3H5c-1.1 0-2 .9-2 2v14c0 1.1.9 2 2 2h14c1.1 0 2-.9 2-2V5c0-1.1-.9-2-2-2zM9 17H7v-7h2v7zm4 0h-2V7h2v10zm4 0h-2v-4h2v4z\"/>\n",
              "    </g>\n",
              "</svg>\n",
              "  </button>\n",
              "\n",
              "<style>\n",
              "  .colab-df-quickchart {\n",
              "      --bg-color: #E8F0FE;\n",
              "      --fill-color: #1967D2;\n",
              "      --hover-bg-color: #E2EBFA;\n",
              "      --hover-fill-color: #174EA6;\n",
              "      --disabled-fill-color: #AAA;\n",
              "      --disabled-bg-color: #DDD;\n",
              "  }\n",
              "\n",
              "  [theme=dark] .colab-df-quickchart {\n",
              "      --bg-color: #3B4455;\n",
              "      --fill-color: #D2E3FC;\n",
              "      --hover-bg-color: #434B5C;\n",
              "      --hover-fill-color: #FFFFFF;\n",
              "      --disabled-bg-color: #3B4455;\n",
              "      --disabled-fill-color: #666;\n",
              "  }\n",
              "\n",
              "  .colab-df-quickchart {\n",
              "    background-color: var(--bg-color);\n",
              "    border: none;\n",
              "    border-radius: 50%;\n",
              "    cursor: pointer;\n",
              "    display: none;\n",
              "    fill: var(--fill-color);\n",
              "    height: 32px;\n",
              "    padding: 0;\n",
              "    width: 32px;\n",
              "  }\n",
              "\n",
              "  .colab-df-quickchart:hover {\n",
              "    background-color: var(--hover-bg-color);\n",
              "    box-shadow: 0 1px 2px rgba(60, 64, 67, 0.3), 0 1px 3px 1px rgba(60, 64, 67, 0.15);\n",
              "    fill: var(--button-hover-fill-color);\n",
              "  }\n",
              "\n",
              "  .colab-df-quickchart-complete:disabled,\n",
              "  .colab-df-quickchart-complete:disabled:hover {\n",
              "    background-color: var(--disabled-bg-color);\n",
              "    fill: var(--disabled-fill-color);\n",
              "    box-shadow: none;\n",
              "  }\n",
              "\n",
              "  .colab-df-spinner {\n",
              "    border: 2px solid var(--fill-color);\n",
              "    border-color: transparent;\n",
              "    border-bottom-color: var(--fill-color);\n",
              "    animation:\n",
              "      spin 1s steps(1) infinite;\n",
              "  }\n",
              "\n",
              "  @keyframes spin {\n",
              "    0% {\n",
              "      border-color: transparent;\n",
              "      border-bottom-color: var(--fill-color);\n",
              "      border-left-color: var(--fill-color);\n",
              "    }\n",
              "    20% {\n",
              "      border-color: transparent;\n",
              "      border-left-color: var(--fill-color);\n",
              "      border-top-color: var(--fill-color);\n",
              "    }\n",
              "    30% {\n",
              "      border-color: transparent;\n",
              "      border-left-color: var(--fill-color);\n",
              "      border-top-color: var(--fill-color);\n",
              "      border-right-color: var(--fill-color);\n",
              "    }\n",
              "    40% {\n",
              "      border-color: transparent;\n",
              "      border-right-color: var(--fill-color);\n",
              "      border-top-color: var(--fill-color);\n",
              "    }\n",
              "    60% {\n",
              "      border-color: transparent;\n",
              "      border-right-color: var(--fill-color);\n",
              "    }\n",
              "    80% {\n",
              "      border-color: transparent;\n",
              "      border-right-color: var(--fill-color);\n",
              "      border-bottom-color: var(--fill-color);\n",
              "    }\n",
              "    90% {\n",
              "      border-color: transparent;\n",
              "      border-bottom-color: var(--fill-color);\n",
              "    }\n",
              "  }\n",
              "</style>\n",
              "\n",
              "  <script>\n",
              "    async function quickchart(key) {\n",
              "      const quickchartButtonEl =\n",
              "        document.querySelector('#' + key + ' button');\n",
              "      quickchartButtonEl.disabled = true;  // To prevent multiple clicks.\n",
              "      quickchartButtonEl.classList.add('colab-df-spinner');\n",
              "      try {\n",
              "        const charts = await google.colab.kernel.invokeFunction(\n",
              "            'suggestCharts', [key], {});\n",
              "      } catch (error) {\n",
              "        console.error('Error during call to suggestCharts:', error);\n",
              "      }\n",
              "      quickchartButtonEl.classList.remove('colab-df-spinner');\n",
              "      quickchartButtonEl.classList.add('colab-df-quickchart-complete');\n",
              "    }\n",
              "    (() => {\n",
              "      let quickchartButtonEl =\n",
              "        document.querySelector('#df-121fcf1f-82f5-44c0-8d19-4a031fae25d3 button');\n",
              "      quickchartButtonEl.style.display =\n",
              "        google.colab.kernel.accessAllowed ? 'block' : 'none';\n",
              "    })();\n",
              "  </script>\n",
              "</div>\n",
              "    </div>\n",
              "  </div>\n"
            ]
          },
          "metadata": {},
          "execution_count": 2
        }
      ]
    },
    {
      "cell_type": "code",
      "execution_count": 3,
      "metadata": {
        "id": "FwIUMAmoyGy8"
      },
      "outputs": [],
      "source": [
        "import re\n",
        "def extract_year_from_title(title):\n",
        "    # Use regular expressions to find a 4-digit number in the title\n",
        "    match = re.search(r'\\b\\d{4}\\b', title)\n",
        "    if match:\n",
        "        year = int(match.group(0))\n",
        "        return year\n",
        "    else:\n",
        "        match = re.search(r'(\\d{4})s', title)\n",
        "        if match:\n",
        "          year = int(match.group(1))\n",
        "          return year\n",
        "        else:\n",
        "          print(\"fail\")\n",
        "\n",
        "\n",
        "def getdecade(df):\n",
        "  decade = []\n",
        "  for i in range(len(df)):\n",
        "    (title, year) = df.loc[i, \"Title\"], df.loc[i, \"Year\"]\n",
        "    if year != 1972:\n",
        "      decadeval = year - (year % 10)\n",
        "      #print(decadeval, year)\n",
        "      decade.append(decadeval)\n",
        "    else:\n",
        "      newyear = extract_year_from_title(title)\n",
        "      decadeval = newyear - (newyear % 10)\n",
        "      #print(decadeval, year)\n",
        "      decade.append(decadeval)\n",
        "  return decade\n",
        "\n",
        "\n",
        "df['Decade'] = getdecade(df)\n",
        "df = df.replace(4650, 1950)"
      ]
    },
    {
      "cell_type": "markdown",
      "source": [
        "# Visuals"
      ],
      "metadata": {
        "id": "yQ6xl0Zf5QXW"
      }
    },
    {
      "cell_type": "code",
      "execution_count": null,
      "metadata": {
        "id": "oPlpVC6ntQXR",
        "colab": {
          "base_uri": "https://localhost:8080/",
          "height": 602
        },
        "outputId": "069bf903-1914-410b-9908-cbb1e6f2a5c6"
      },
      "outputs": [
        {
          "output_type": "display_data",
          "data": {
            "text/plain": [
              "<Figure size 640x480 with 1 Axes>"
            ],
            "image/png": "[encoded data removed]"
          },
          "metadata": {}
        }
      ],
      "source": [
        "grouped_data = df['Artist'].value_counts().reset_index()\n",
        "grouped_data.columns = ['Group', 'Count']\n",
        "grouped_data = grouped_data[grouped_data['Count'] >= 6]\n",
        "plt.bar(grouped_data['Group'], grouped_data['Count'])\n",
        "plt.xlabel('Artist')\n",
        "plt.xticks(rotation=90)\n",
        "plt.ylabel('# of Pieces by Given Artist')\n",
        "plt.title('# of Art Pieces by An Artist Within our Dataset Greater than Six')\n",
        "plt.show()\n"
      ]
    },
    {
      "cell_type": "code",
      "execution_count": null,
      "metadata": {
        "id": "dfY-EPTsUWqr",
        "colab": {
          "base_uri": "https://localhost:8080/",
          "height": 447
        },
        "outputId": "855f5d16-f1bf-4642-c383-058e25443463"
      },
      "outputs": [
        {
          "output_type": "execute_result",
          "data": {
            "text/plain": [
              "<BarContainer object of 8 artists>"
            ]
          },
          "metadata": {},
          "execution_count": 16
        },
        {
          "output_type": "display_data",
          "data": {
            "text/plain": [
              "<Figure size 640x480 with 1 Axes>"
            ],
            "image/png": "[encoded data removed]"
          },
          "metadata": {}
        }
      ],
      "source": [
        "#df.groupby(['Decade']).count()\n",
        "x = ['1910', '1950', '1960', '1970', '1980', '1990', '2000', '2010']\n",
        "y = [2, 158, 193, 101, 105, 86, 47, 8]\n",
        "plt.bar(x, y)"
      ]
    },
    {
      "cell_type": "code",
      "source": [
        "countdecade = dfextension.groupby('Decade').count()\n",
        "print(countdecade)\n",
        "x = ['1910', '1950', '1960', '1970', '1980', '1990', '2000', '2010']\n",
        "plt.bar(x, countdecade['Title'])\n",
        "\n",
        "plt.xlabel(\"Decades\")\n",
        "plt.ylabel(\"# of Pieces in Dataset\")\n",
        "\n",
        "# Show the bar graph\n",
        "plt.show()\n"
      ],
      "metadata": {
        "colab": {
          "base_uri": "https://localhost:8080/",
          "height": 623
        },
        "id": "q82MEzN7l5q4",
        "outputId": "55fa5c28-f941-4d37-ec97-352ee0426229"
      },
      "execution_count": null,
      "outputs": [
        {
          "output_type": "stream",
          "name": "stdout",
          "text": [
            "        Image  Title  Text\n",
            "Decade                    \n",
            "1910       27     27    27\n",
            "1950       27     27    27\n",
            "1960       27     27    27\n",
            "1970       27     27    27\n",
            "1980       27     27    27\n",
            "1990       27     27    27\n",
            "2000       27     27    27\n",
            "2010       27     27    27\n"
          ]
        },
        {
          "output_type": "display_data",
          "data": {
            "text/plain": [
              "<Figure size 640x480 with 1 Axes>"
            ],
            "image/png": "[encoded data removed]"
          },
          "metadata": {}
        }
      ]
    },
    {
      "cell_type": "code",
      "source": [
        "grouped_data = dfextension['Title'].value_counts().reset_index()\n",
        "grouped_data.columns = ['Group', 'Count']\n",
        "grouped_data = grouped_data[grouped_data['Count'] >= 10]\n",
        "plt.bar(grouped_data['Group'], grouped_data['Count'])\n",
        "plt.xlabel('Artist')\n",
        "plt.xticks(rotation=90)\n",
        "plt.ylabel('# of Pieces by Given Artist')\n",
        "plt.title('# of Art Pieces by An Artist Within our Dataset Greater than Ten')\n",
        "plt.show()"
      ],
      "metadata": {
        "colab": {
          "base_uri": "https://localhost:8080/",
          "height": 566
        },
        "id": "e0qP49k8saW8",
        "outputId": "2d91e2fd-016f-4711-86e3-ffb364a4adcc"
      },
      "execution_count": null,
      "outputs": [
        {
          "output_type": "display_data",
          "data": {
            "text/plain": [
              "<Figure size 640x480 with 1 Axes>"
            ],
            "image/png": "[encoded data removed]"
          },
          "metadata": {}
        }
      ]
    },
    {
      "cell_type": "markdown",
      "source": [
        "# Labels"
      ],
      "metadata": {
        "id": "_6T-aQEt5Mkd"
      }
    },
    {
      "cell_type": "code",
      "execution_count": 4,
      "metadata": {
        "id": "mLHr0rIEzXnA"
      },
      "outputs": [],
      "source": [
        "labels_dict = {\n",
        "    1910: 0,\n",
        "    1950: 1,\n",
        "    1960: 2,\n",
        "    1970: 3,\n",
        "    1980: 4,\n",
        "    1990: 5,\n",
        "    2000: 6,\n",
        "    2010: 7\n",
        "}"
      ]
    },
    {
      "cell_type": "code",
      "execution_count": 5,
      "metadata": {
        "colab": {
          "base_uri": "https://localhost:8080/"
        },
        "id": "LTTz1COU8R-D",
        "outputId": "919cffca-635f-432c-f2bc-e32567b60a48"
      },
      "outputs": [
        {
          "output_type": "stream",
          "name": "stdout",
          "text": [
            "<class 'list'>\n"
          ]
        },
        {
          "output_type": "execute_result",
          "data": {
            "text/plain": [
              "699"
            ]
          },
          "metadata": {},
          "execution_count": 5
        }
      ],
      "source": [
        "labels = df[\"Decade\"].to_list()\n",
        "images = df['Image']\n",
        "bw_labels = labels.copy()\n",
        "print(type(labels))\n",
        "len(labels)"
      ]
    },
    {
      "cell_type": "code",
      "source": [
        "dfextension"
      ],
      "metadata": {
        "colab": {
          "base_uri": "https://localhost:8080/"
        },
        "id": "OZHMacdY_-Sp",
        "outputId": "c88804ab-cb66-40d3-a4b2-cca74f6a99e3"
      },
      "execution_count": null,
      "outputs": [
        {
          "output_type": "execute_result",
          "data": {
            "text/plain": [
              "                                                 Image  \\\n",
              "0    https://www.guggenheim.org/wp-content/uploads/...   \n",
              "1    https://www.guggenheim.org/wp-content/uploads/...   \n",
              "2    https://www.guggenheim.org/wp-content/uploads/...   \n",
              "3    https://www.guggenheim.org/wp-content/uploads/...   \n",
              "4    https://www.guggenheim.org/wp-content/uploads/...   \n",
              "..                                                 ...   \n",
              "211  https://www.guggenheim.org/wp-content/uploads/...   \n",
              "212  https://www.guggenheim.org/wp-content/uploads/...   \n",
              "213  https://www.guggenheim.org/wp-content/uploads/...   \n",
              "214  https://www.guggenheim.org/wp-content/uploads/...   \n",
              "215  https://www.guggenheim.org/wp-content/uploads/...   \n",
              "\n",
              "                      Title                Text  Decade  \n",
              "0      Alexander Archipenko  Art from the 1910s    1910  \n",
              "1      Alexander Archipenko  Art from the 1910s    1910  \n",
              "2      Alexander Archipenko  Art from the 1910s    1910  \n",
              "3             Giacomo Balla  Art from the 1910s    1910  \n",
              "4             Giacomo Balla  Art from the 1910s    1910  \n",
              "..                      ...                 ...     ...  \n",
              "211          Paweł Althamer  Art from the 2010s    2010  \n",
              "212         Carlos Amorales  Art from the 2010s    2010  \n",
              "213  Armando Andrade Tudela  Art from the 2010s    2010  \n",
              "214       Alexander Apóstol  Art from the 2010s    2010  \n",
              "215            Lucas Arruda  Art from the 2010s    2010  \n",
              "\n",
              "[216 rows x 4 columns]"
            ],
            "text/html": [
              "\n",
              "  <div id=\"df-1d22b8e9-461d-41a2-981b-1ad3f4112103\" class=\"colab-df-container\">\n",
              "    <div>\n",
              "<style scoped>\n",
              "    .dataframe tbody tr th:only-of-type {\n",
              "        vertical-align: middle;\n",
              "    }\n",
              "\n",
              "    .dataframe tbody tr th {\n",
              "        vertical-align: top;\n",
              "    }\n",
              "\n",
              "    .dataframe thead th {\n",
              "        text-align: right;\n",
              "    }\n",
              "</style>\n",
              "<table border=\"1\" class=\"dataframe\">\n",
              "  <thead>\n",
              "    <tr style=\"text-align: right;\">\n",
              "      <th></th>\n",
              "      <th>Image</th>\n",
              "      <th>Title</th>\n",
              "      <th>Text</th>\n",
              "      <th>Decade</th>\n",
              "    </tr>\n",
              "  </thead>\n",
              "  <tbody>\n",
              "    <tr>\n",
              "      <th>0</th>\n",
              "      <td>https://www.guggenheim.org/wp-content/uploads/...</td>\n",
              "      <td>Alexander Archipenko</td>\n",
              "      <td>Art from the 1910s</td>\n",
              "      <td>1910</td>\n",
              "    </tr>\n",
              "    <tr>\n",
              "      <th>1</th>\n",
              "      <td>https://www.guggenheim.org/wp-content/uploads/...</td>\n",
              "      <td>Alexander Archipenko</td>\n",
              "      <td>Art from the 1910s</td>\n",
              "      <td>1910</td>\n",
              "    </tr>\n",
              "    <tr>\n",
              "      <th>2</th>\n",
              "      <td>https://www.guggenheim.org/wp-content/uploads/...</td>\n",
              "      <td>Alexander Archipenko</td>\n",
              "      <td>Art from the 1910s</td>\n",
              "      <td>1910</td>\n",
              "    </tr>\n",
              "    <tr>\n",
              "      <th>3</th>\n",
              "      <td>https://www.guggenheim.org/wp-content/uploads/...</td>\n",
              "      <td>Giacomo Balla</td>\n",
              "      <td>Art from the 1910s</td>\n",
              "      <td>1910</td>\n",
              "    </tr>\n",
              "    <tr>\n",
              "      <th>4</th>\n",
              "      <td>https://www.guggenheim.org/wp-content/uploads/...</td>\n",
              "      <td>Giacomo Balla</td>\n",
              "      <td>Art from the 1910s</td>\n",
              "      <td>1910</td>\n",
              "    </tr>\n",
              "    <tr>\n",
              "      <th>...</th>\n",
              "      <td>...</td>\n",
              "      <td>...</td>\n",
              "      <td>...</td>\n",
              "      <td>...</td>\n",
              "    </tr>\n",
              "    <tr>\n",
              "      <th>211</th>\n",
              "      <td>https://www.guggenheim.org/wp-content/uploads/...</td>\n",
              "      <td>Paweł Althamer</td>\n",
              "      <td>Art from the 2010s</td>\n",
              "      <td>2010</td>\n",
              "    </tr>\n",
              "    <tr>\n",
              "      <th>212</th>\n",
              "      <td>https://www.guggenheim.org/wp-content/uploads/...</td>\n",
              "      <td>Carlos Amorales</td>\n",
              "      <td>Art from the 2010s</td>\n",
              "      <td>2010</td>\n",
              "    </tr>\n",
              "    <tr>\n",
              "      <th>213</th>\n",
              "      <td>https://www.guggenheim.org/wp-content/uploads/...</td>\n",
              "      <td>Armando Andrade Tudela</td>\n",
              "      <td>Art from the 2010s</td>\n",
              "      <td>2010</td>\n",
              "    </tr>\n",
              "    <tr>\n",
              "      <th>214</th>\n",
              "      <td>https://www.guggenheim.org/wp-content/uploads/...</td>\n",
              "      <td>Alexander Apóstol</td>\n",
              "      <td>Art from the 2010s</td>\n",
              "      <td>2010</td>\n",
              "    </tr>\n",
              "    <tr>\n",
              "      <th>215</th>\n",
              "      <td>https://www.guggenheim.org/wp-content/uploads/...</td>\n",
              "      <td>Lucas Arruda</td>\n",
              "      <td>Art from the 2010s</td>\n",
              "      <td>2010</td>\n",
              "    </tr>\n",
              "  </tbody>\n",
              "</table>\n",
              "<p>216 rows × 4 columns</p>\n",
              "</div>\n",
              "    <div class=\"colab-df-buttons\">\n",
              "\n",
              "  <div class=\"colab-df-container\">\n",
              "    <button class=\"colab-df-convert\" onclick=\"convertToInteractive('df-1d22b8e9-461d-41a2-981b-1ad3f4112103')\"\n",
              "            title=\"Convert this dataframe to an interactive table.\"\n",
              "            style=\"display:none;\">\n",
              "\n",
              "  <svg xmlns=\"http://www.w3.org/2000/svg\" height=\"24px\" viewBox=\"0 -960 960 960\">\n",
              "    <path d=\"M120-120v-720h720v720H120Zm60-500h600v-160H180v160Zm220 220h160v-160H400v160Zm0 220h160v-160H400v160ZM180-400h160v-160H180v160Zm440 0h160v-160H620v160ZM180-180h160v-160H180v160Zm440 0h160v-160H620v160Z\"/>\n",
              "  </svg>\n",
              "    </button>\n",
              "\n",
              "  <style>\n",
              "    .colab-df-container {\n",
              "      display:flex;\n",
              "      gap: 12px;\n",
              "    }\n",
              "\n",
              "    .colab-df-convert {\n",
              "      background-color: #E8F0FE;\n",
              "      border: none;\n",
              "      border-radius: 50%;\n",
              "      cursor: pointer;\n",
              "      display: none;\n",
              "      fill: #1967D2;\n",
              "      height: 32px;\n",
              "      padding: 0 0 0 0;\n",
              "      width: 32px;\n",
              "    }\n",
              "\n",
              "    .colab-df-convert:hover {\n",
              "      background-color: #E2EBFA;\n",
              "      box-shadow: 0px 1px 2px rgba(60, 64, 67, 0.3), 0px 1px 3px 1px rgba(60, 64, 67, 0.15);\n",
              "      fill: #174EA6;\n",
              "    }\n",
              "\n",
              "    .colab-df-buttons div {\n",
              "      margin-bottom: 4px;\n",
              "    }\n",
              "\n",
              "    [theme=dark] .colab-df-convert {\n",
              "      background-color: #3B4455;\n",
              "      fill: #D2E3FC;\n",
              "    }\n",
              "\n",
              "    [theme=dark] .colab-df-convert:hover {\n",
              "      background-color: #434B5C;\n",
              "      box-shadow: 0px 1px 3px 1px rgba(0, 0, 0, 0.15);\n",
              "      filter: drop-shadow(0px 1px 2px rgba(0, 0, 0, 0.3));\n",
              "      fill: #FFFFFF;\n",
              "    }\n",
              "  </style>\n",
              "\n",
              "    <script>\n",
              "      const buttonEl =\n",
              "        document.querySelector('#df-1d22b8e9-461d-41a2-981b-1ad3f4112103 button.colab-df-convert');\n",
              "      buttonEl.style.display =\n",
              "        google.colab.kernel.accessAllowed ? 'block' : 'none';\n",
              "\n",
              "      async function convertToInteractive(key) {\n",
              "        const element = document.querySelector('#df-1d22b8e9-461d-41a2-981b-1ad3f4112103');\n",
              "        const dataTable =\n",
              "          await google.colab.kernel.invokeFunction('convertToInteractive',\n",
              "                                                    [key], {});\n",
              "        if (!dataTable) return;\n",
              "\n",
              "        const docLinkHtml = 'Like what you see? Visit the ' +\n",
              "          '<a target=\"_blank\" href=https://colab.research.google.com/notebooks/data_table.ipynb>data table notebook</a>'\n",
              "          + ' to learn more about interactive tables.';\n",
              "        element.innerHTML = '';\n",
              "        dataTable['output_type'] = 'display_data';\n",
              "        await google.colab.output.renderOutput(dataTable, element);\n",
              "        const docLink = document.createElement('div');\n",
              "        docLink.innerHTML = docLinkHtml;\n",
              "        element.appendChild(docLink);\n",
              "      }\n",
              "    </script>\n",
              "  </div>\n",
              "\n",
              "\n",
              "<div id=\"df-1c1a7d1d-b175-4db3-882b-61f8373639ab\">\n",
              "  <button class=\"colab-df-quickchart\" onclick=\"quickchart('df-1c1a7d1d-b175-4db3-882b-61f8373639ab')\"\n",
              "            title=\"Suggest charts\"\n",
              "            style=\"display:none;\">\n",
              "\n",
              "<svg xmlns=\"http://www.w3.org/2000/svg\" height=\"24px\"viewBox=\"0 0 24 24\"\n",
              "     width=\"24px\">\n",
              "    <g>\n",
              "        <path d=\"M19 3H5c-1.1 0-2 .9-2 2v14c0 1.1.9 2 2 2h14c1.1 0 2-.9 2-2V5c0-1.1-.9-2-2-2zM9 17H7v-7h2v7zm4 0h-2V7h2v10zm4 0h-2v-4h2v4z\"/>\n",
              "    </g>\n",
              "</svg>\n",
              "  </button>\n",
              "\n",
              "<style>\n",
              "  .colab-df-quickchart {\n",
              "      --bg-color: #E8F0FE;\n",
              "      --fill-color: #1967D2;\n",
              "      --hover-bg-color: #E2EBFA;\n",
              "      --hover-fill-color: #174EA6;\n",
              "      --disabled-fill-color: #AAA;\n",
              "      --disabled-bg-color: #DDD;\n",
              "  }\n",
              "\n",
              "  [theme=dark] .colab-df-quickchart {\n",
              "      --bg-color: #3B4455;\n",
              "      --fill-color: #D2E3FC;\n",
              "      --hover-bg-color: #434B5C;\n",
              "      --hover-fill-color: #FFFFFF;\n",
              "      --disabled-bg-color: #3B4455;\n",
              "      --disabled-fill-color: #666;\n",
              "  }\n",
              "\n",
              "  .colab-df-quickchart {\n",
              "    background-color: var(--bg-color);\n",
              "    border: none;\n",
              "    border-radius: 50%;\n",
              "    cursor: pointer;\n",
              "    display: none;\n",
              "    fill: var(--fill-color);\n",
              "    height: 32px;\n",
              "    padding: 0;\n",
              "    width: 32px;\n",
              "  }\n",
              "\n",
              "  .colab-df-quickchart:hover {\n",
              "    background-color: var(--hover-bg-color);\n",
              "    box-shadow: 0 1px 2px rgba(60, 64, 67, 0.3), 0 1px 3px 1px rgba(60, 64, 67, 0.15);\n",
              "    fill: var(--button-hover-fill-color);\n",
              "  }\n",
              "\n",
              "  .colab-df-quickchart-complete:disabled,\n",
              "  .colab-df-quickchart-complete:disabled:hover {\n",
              "    background-color: var(--disabled-bg-color);\n",
              "    fill: var(--disabled-fill-color);\n",
              "    box-shadow: none;\n",
              "  }\n",
              "\n",
              "  .colab-df-spinner {\n",
              "    border: 2px solid var(--fill-color);\n",
              "    border-color: transparent;\n",
              "    border-bottom-color: var(--fill-color);\n",
              "    animation:\n",
              "      spin 1s steps(1) infinite;\n",
              "  }\n",
              "\n",
              "  @keyframes spin {\n",
              "    0% {\n",
              "      border-color: transparent;\n",
              "      border-bottom-color: var(--fill-color);\n",
              "      border-left-color: var(--fill-color);\n",
              "    }\n",
              "    20% {\n",
              "      border-color: transparent;\n",
              "      border-left-color: var(--fill-color);\n",
              "      border-top-color: var(--fill-color);\n",
              "    }\n",
              "    30% {\n",
              "      border-color: transparent;\n",
              "      border-left-color: var(--fill-color);\n",
              "      border-top-color: var(--fill-color);\n",
              "      border-right-color: var(--fill-color);\n",
              "    }\n",
              "    40% {\n",
              "      border-color: transparent;\n",
              "      border-right-color: var(--fill-color);\n",
              "      border-top-color: var(--fill-color);\n",
              "    }\n",
              "    60% {\n",
              "      border-color: transparent;\n",
              "      border-right-color: var(--fill-color);\n",
              "    }\n",
              "    80% {\n",
              "      border-color: transparent;\n",
              "      border-right-color: var(--fill-color);\n",
              "      border-bottom-color: var(--fill-color);\n",
              "    }\n",
              "    90% {\n",
              "      border-color: transparent;\n",
              "      border-bottom-color: var(--fill-color);\n",
              "    }\n",
              "  }\n",
              "</style>\n",
              "\n",
              "  <script>\n",
              "    async function quickchart(key) {\n",
              "      const quickchartButtonEl =\n",
              "        document.querySelector('#' + key + ' button');\n",
              "      quickchartButtonEl.disabled = true;  // To prevent multiple clicks.\n",
              "      quickchartButtonEl.classList.add('colab-df-spinner');\n",
              "      try {\n",
              "        const charts = await google.colab.kernel.invokeFunction(\n",
              "            'suggestCharts', [key], {});\n",
              "      } catch (error) {\n",
              "        console.error('Error during call to suggestCharts:', error);\n",
              "      }\n",
              "      quickchartButtonEl.classList.remove('colab-df-spinner');\n",
              "      quickchartButtonEl.classList.add('colab-df-quickchart-complete');\n",
              "    }\n",
              "    (() => {\n",
              "      let quickchartButtonEl =\n",
              "        document.querySelector('#df-1c1a7d1d-b175-4db3-882b-61f8373639ab button');\n",
              "      quickchartButtonEl.style.display =\n",
              "        google.colab.kernel.accessAllowed ? 'block' : 'none';\n",
              "    })();\n",
              "  </script>\n",
              "</div>\n",
              "    </div>\n",
              "  </div>\n"
            ]
          },
          "metadata": {},
          "execution_count": 6
        }
      ]
    },
    {
      "cell_type": "code",
      "source": [
        "dfex_labels = dfextension[\"Decade\"].to_list()\n",
        "dfex_images = dfextension['Image']\n",
        "bw_dfex_labels = dfex_labels.copy()\n",
        "print(type(dfex_images))\n",
        "len(dfex_labels)"
      ],
      "metadata": {
        "colab": {
          "base_uri": "https://localhost:8080/"
        },
        "id": "ZJiRBQGg42R0",
        "outputId": "6714cd3f-ae02-476f-908a-0da7bbb3b75f"
      },
      "execution_count": null,
      "outputs": [
        {
          "output_type": "stream",
          "name": "stdout",
          "text": [
            "<class 'pandas.core.series.Series'>\n"
          ]
        },
        {
          "output_type": "execute_result",
          "data": {
            "text/plain": [
              "216"
            ]
          },
          "metadata": {},
          "execution_count": 7
        }
      ]
    },
    {
      "cell_type": "markdown",
      "source": [
        "# Sizing"
      ],
      "metadata": {
        "id": "_qAlsl-t5UqB"
      }
    },
    {
      "cell_type": "code",
      "execution_count": 6,
      "metadata": {
        "colab": {
          "base_uri": "https://localhost:8080/",
          "height": 36
        },
        "id": "-uzvKKr6C7gC",
        "outputId": "8d11614d-c071-450c-c6ec-496be5229d3a"
      },
      "outputs": [
        {
          "output_type": "execute_result",
          "data": {
            "text/plain": [
              "'result = resize(sample)\\ncv2_imshow(result[2])'"
            ],
            "application/vnd.google.colaboratory.intrinsic+json": {
              "type": "string"
            }
          },
          "metadata": {},
          "execution_count": 6
        }
      ],
      "source": [
        "def resize(sample, labeltype):\n",
        "  crop_img_list = []\n",
        "  for i, url in enumerate(sample):\n",
        "    try:\n",
        "      image = io.imread(url)\n",
        "      # print(\"shape is: \" + str(image.shape))\n",
        "      width =  image.shape[1]\n",
        "      height = image.shape[0]\n",
        "      if width == height:\n",
        "          #cv2_imshow(cv.resize(image, (255, 255), interpolation = cv.INTER_AREA)\n",
        "          crop_img_list.append(cv.resize(image, (255, 255), interpolation = cv.INTER_AREA))\n",
        "          #print(image.shape)\n",
        "          #print(\"here\")\n",
        "      else:\n",
        "        mid_x, mid_y = int(width/2), int(height/2)\n",
        "        if 255 < width:\n",
        "            crop_width = int(255/2)\n",
        "            if 255 < height:\n",
        "                crop_height = int(255/2)\n",
        "                crop_img = image[mid_y-crop_height:mid_y+crop_height, mid_x-crop_width:mid_x+crop_width]\n",
        "            else:\n",
        "                crop_height = int(crop_height/2)\n",
        "                crop_img = image[mid_y-crop_height:mid_y+crop_height, mid_x-crop_width:mid_x+crop_width]\n",
        "        else:\n",
        "            if 255 < height:\n",
        "                crop_width = int(crop_width/2)\n",
        "                crop_height = int(255/2)\n",
        "                crop_img = image[mid_y-crop_height:mid_y+crop_height, mid_x-crop_width:mid_x+crop_width]\n",
        "            else:\n",
        "                crop_width = int(crop_width/2)\n",
        "                crop_height = int(crop_height/2)\n",
        "                crop_img = image[mid_y-crop_height:mid_y+crop_height, mid_x-crop_width:mid_x+crop_width]\n",
        "        crop_img = cv.resize(crop_img, (255, 255), interpolation = cv.INTER_AREA)\n",
        "        # print(\"crop_image shape: \" + str(crop_img.shape))\n",
        "        crop_img_list.append(crop_img)\n",
        "        #print(image.shape)\n",
        "    except:\n",
        "      print(\"Issue with resizing image: \" + str(url))\n",
        "      # remove the label from labels\n",
        "      labeltype.pop(i)\n",
        "  return crop_img_list\n",
        "    #cv2_imshow(crop_img)\n",
        "    #print('\\n')\n",
        "\n",
        "\n",
        "\"\"\"result = resize(sample)\n",
        "cv2_imshow(result[2])\"\"\""
      ]
    },
    {
      "cell_type": "code",
      "execution_count": null,
      "metadata": {
        "id": "bMEbR1fV153x"
      },
      "outputs": [],
      "source": [
        "def BW_convert(sample):\n",
        "  BW_img_list = []\n",
        "  for i, url in enumerate(sample):\n",
        "    try:\n",
        "      image = io.imread(url)\n",
        "      gray = cv.cvtColor(image, cv.COLOR_BGR2GRAY)\n",
        "      crop_gray = cv.resize(gray, (255, 255), interpolation = cv.INTER_AREA)\n",
        "      BW_img_list.append(crop_gray)\n",
        "    except:\n",
        "      print(\"Issue with converting image: \" + str(url))\n",
        "      # remove the label from labels\n",
        "      bw_labels.pop(i)\n",
        "  return BW_img_list\n"
      ]
    },
    {
      "cell_type": "code",
      "execution_count": null,
      "metadata": {
        "id": "G_ZnRRoSy140"
      },
      "outputs": [],
      "source": [
        "# resize all images\n",
        "BW = BW_convert(images)\n",
        "print(len(BW))\n",
        "# img_array = np.array(img_array)"
      ]
    },
    {
      "cell_type": "code",
      "execution_count": 7,
      "metadata": {
        "id": "Zehos9N8j95-",
        "colab": {
          "base_uri": "https://localhost:8080/"
        },
        "outputId": "66ea09c0-f9a8-44d6-adb5-ad039e0b9dd4"
      },
      "outputs": [
        {
          "output_type": "stream",
          "name": "stdout",
          "text": [
            "label length before 699\n",
            "images length before 699\n",
            "label length after 699\n",
            "img length after 699\n"
          ]
        }
      ],
      "source": [
        "print(\"label length before\", len(labels))\n",
        "print(\"images length before\", len(images))\n",
        "resized_imgs = resize(images, labels)\n",
        "print(\"label length after\", len(labels))\n",
        "print(\"img length after\",len(resized_imgs))"
      ]
    },
    {
      "cell_type": "code",
      "source": [
        "print(\"images length\", len(dfex_images))\n",
        "print(\"labels length\", len(dfex_labels))\n",
        "resized_dfex_imgs = resize(dfex_images, dfex_labels)\n",
        "print(\"img length after\", len(resized_dfex_imgs))\n",
        "print(\"label length after\", len(dfex_labels))"
      ],
      "metadata": {
        "id": "Hagwqnwf5ivM"
      },
      "execution_count": null,
      "outputs": []
    },
    {
      "cell_type": "code",
      "execution_count": 8,
      "metadata": {
        "id": "moGxveh_dZVu",
        "colab": {
          "base_uri": "https://localhost:8080/"
        },
        "outputId": "2b878fe4-b64f-477b-800b-5743a9d876a8"
      },
      "outputs": [
        {
          "output_type": "stream",
          "name": "stdout",
          "text": [
            "label length after 699\n",
            "img length after 699\n",
            "(255, 255, 3)\n",
            "255\n",
            "255\n",
            "3\n",
            "shape error with image 130\n",
            "(255, 255)\n",
            "shape error with image 366\n",
            "(255, 255)\n",
            "shape error with image 482\n",
            "(255, 255)\n",
            "label length after 696\n",
            "img length after 696\n",
            "(696, 255, 255, 3)\n"
          ]
        }
      ],
      "source": [
        "  # print(img_array)\n",
        "# convert to np array\n",
        "print(\"label length after\", len(labels))\n",
        "print(\"img length after\",len(resized_imgs))\n",
        "print(resized_imgs[0].shape)\n",
        "print(len(resized_imgs[0]))\n",
        "print(len(resized_imgs[0][0]))\n",
        "print(len(resized_imgs[0][0][0]))\n",
        "for i, img in enumerate(resized_imgs):\n",
        "    if img.shape != (255, 255, 3):\n",
        "      resized_imgs.pop(i)\n",
        "      labels.pop(i)\n",
        "      print(\"shape error with image \" + str(i))\n",
        "      print(img.shape)\n",
        "      # print(img)\n",
        "      # image = io.imread(url)\n",
        "      # cv2_imshow(io.imread(images[i]))\n",
        "img_array = np.array(resized_imgs)\n",
        "print(\"label length after\", len(labels))\n",
        "print(\"img length after\",len(img_array))\n",
        "print(img_array.shape)"
      ]
    },
    {
      "cell_type": "markdown",
      "source": [
        "This one has an issue and you have to rerun 3 - 4 to get it to compile."
      ],
      "metadata": {
        "id": "rra0KDVSdCe9"
      }
    },
    {
      "cell_type": "code",
      "source": [
        "# print(img_array)\n",
        "# convert to np array\n",
        "print(len(resized_dfex_imgs))\n",
        "print(len(dfex_labels))\n",
        "print(resized_dfex_imgs[0].shape)\n",
        "print(len(resized_dfex_imgs[0]))\n",
        "print(len(resized_dfex_imgs[0][0]))\n",
        "print(len(resized_dfex_imgs[0][0][0]))\n",
        "for i, img in enumerate(resized_dfex_imgs):\n",
        "  if img.shape != (255, 255, 3):\n",
        "    resized_dfex_imgs.pop(i)\n",
        "    dfex_labels.pop(i)\n",
        "    print(\"shape error with image \" + str(i))\n",
        "    print(img.shape)\n",
        "    # print(img)\n",
        "    # image = io.imread(url)\n",
        "    # cv2_imshow(io.imread(images[i]))\n",
        "dfex_img_array = np.array(resized_dfex_imgs)\n",
        "print(dfex_img_array.shape)\n",
        "print(len(resized_dfex_imgs))\n",
        "print(len(dfex_labels))"
      ],
      "metadata": {
        "id": "YTp7aeTa5ysv"
      },
      "execution_count": null,
      "outputs": []
    },
    {
      "cell_type": "code",
      "execution_count": null,
      "metadata": {
        "id": "EdWYSW3ofLDx"
      },
      "outputs": [],
      "source": [
        "# print(img_array)\n",
        "# convert to np array\n",
        "print(BW[0].shape)\n",
        "print(len(BW[0]))\n",
        "print(len(BW[0][0]))\n",
        "for i, img in enumerate(BW):\n",
        "  if img.shape != (255, 255):\n",
        "    BW.pop(i)\n",
        "    bw_labels.pop(i)\n",
        "    print(\"shape error with image \" + str(i))\n",
        "    print(img.shape)\n",
        "    # print(img)\n",
        "    # image = io.imread(url)\n",
        "    cv2_imshow(io.imread(BW[i]))\n",
        "bw_img_array = np.array(BW)\n",
        "print(bw_img_array.shape)"
      ]
    },
    {
      "cell_type": "code",
      "source": [
        "# convert labels to dict ids\n",
        "print(\"label length before\", len(labels))\n",
        "print(\"img length before\",len(img_array))\n",
        "print(type(labels))\n",
        "transformed_labels = list(map(lambda x: labels_dict[x], labels))\n",
        "# print(type(transformed_labels))\n",
        "print(\"label length after\", len(transformed_labels))\n",
        "print(\"img length after\",len(img_array))\n",
        "# print(transformed_labels)\n",
        "\n"
      ],
      "metadata": {
        "id": "hw-btqjB6DSh",
        "colab": {
          "base_uri": "https://localhost:8080/"
        },
        "outputId": "0af6adca-a110-4de7-e3c5-f92267db2861"
      },
      "execution_count": 9,
      "outputs": [
        {
          "output_type": "stream",
          "name": "stdout",
          "text": [
            "label length before 696\n",
            "img length before 696\n",
            "<class 'list'>\n",
            "label length after 696\n",
            "img length after 696\n"
          ]
        }
      ]
    },
    {
      "cell_type": "code",
      "execution_count": null,
      "metadata": {
        "id": "dfRNoBgsx_Pq"
      },
      "outputs": [],
      "source": [
        "# convert labels to dict ids\n",
        "print(type(dfex_labels))\n",
        "\"dfex_labels = list(map(int, dfex_labels))\"\n",
        "dfex_transformed_labels = list(map(lambda x: labels_dict[x], dfex_labels))\n",
        "# print(type(transformed_labels))\n",
        "print(len(dfex_transformed_labels))\n",
        "# print(transformed_labels)\n"
      ]
    },
    {
      "cell_type": "code",
      "execution_count": null,
      "metadata": {
        "id": "leLecx4ZsYnY"
      },
      "outputs": [],
      "source": [
        "# convert BW labels to dict ids\n",
        "print(type(bw_labels))\n",
        "\n",
        "bw_transformed_labels = list(map(lambda x: labels_dict[x], bw_labels))\n",
        "# print(type(transformed_labels))\n",
        "print(len(bw_transformed_labels))\n",
        "# print(transformed_labels)\n",
        "len(bw_img_array)"
      ]
    },
    {
      "cell_type": "code",
      "source": [
        "comb_transformed_labels = transformed_labels + dfex_transformed_labels\n",
        "comb_img_array = np.concatenate((img_array, dfex_img_array), axis=0)\n",
        "print(len(comb_transformed_labels))\n",
        "print(len(comb_img_array))"
      ],
      "metadata": {
        "id": "COE5b_s16TVS"
      },
      "execution_count": null,
      "outputs": []
    },
    {
      "cell_type": "markdown",
      "source": [
        "# Neural Networks!"
      ],
      "metadata": {
        "id": "zkd3WCSz6PI3"
      }
    },
    {
      "cell_type": "markdown",
      "source": [
        "## Creating train & test set"
      ],
      "metadata": {
        "id": "VrkYxCGjb0H6"
      }
    },
    {
      "cell_type": "code",
      "execution_count": 10,
      "metadata": {
        "id": "Dib4FjhTy1WR",
        "colab": {
          "base_uri": "https://localhost:8080/",
          "height": 453
        },
        "outputId": "1be19707-4df1-4e80-b713-1dd466d1df88"
      },
      "outputs": [
        {
          "output_type": "stream",
          "name": "stdout",
          "text": [
            "(255, 255, 3)\n"
          ]
        },
        {
          "output_type": "display_data",
          "data": {
            "text/plain": [
              "<Figure size 640x480 with 1 Axes>"
            ],
            "image/png": "[encoded data removed]"
          },
          "metadata": {}
        }
      ],
      "source": [
        "from sklearn.model_selection import train_test_split\n",
        "from tensorflow import keras\n",
        "\n",
        "x_train, x_test, y_train, y_test = train_test_split(img_array, transformed_labels, test_size=0.3)\n",
        "\n",
        "print(x_train[0].shape)\n",
        "\n",
        "x_train = x_train/255.0\n",
        "x_test = x_test/255.0\n",
        "\n",
        "\"\"\"x_train = x_train.reshape((-1,28,28, 3)) #NOT SURE IF WE NEED\n",
        "x_test = x_test.reshape((-1,28,28, 3)) #NOT SURE IF WE NEED\n",
        "\"\"\"\n",
        "\n",
        "plt.imshow(x_train[0])\n",
        "\n",
        "#ERROR OUT OF BOUNDS BC DIMENSIONS AREN'T RIGHT\n",
        "num_classes = 8\n",
        "# y_train = pd.DataFrame(data=y_train)\n",
        "# y_test = pd.DataFrame(data=y_test)\n",
        "# y_train = pd.DataFrame(index=np.arange(700))\n",
        "# y_test = pd.DataFrame(index=np.arange(700))\n",
        "y_train = keras.utils.to_categorical(y_train, num_classes=num_classes)\n",
        "y_test = keras.utils.to_categorical(y_test, num_classes=num_classes)\n",
        "\n"
      ]
    },
    {
      "cell_type": "code",
      "execution_count": null,
      "metadata": {
        "id": "HUyA7Ih4epUz"
      },
      "outputs": [],
      "source": [
        "from sklearn.model_selection import train_test_split\n",
        "from tensorflow import keras\n",
        "\n",
        "bw_x_train, bw_x_test, bw_y_train, bw_y_test = train_test_split(bw_img_array, bw_transformed_labels, test_size=0.3)\n",
        "\n",
        "print(bw_x_train[0].shape)\n",
        "\n",
        "bw_x_train = bw_x_train/255.0\n",
        "bw_x_test = bw_x_test/255.0\n",
        "\n",
        "\"\"\"x_train = x_train.reshape((-1,28,28, 3)) #NOT SURE IF WE NEED\n",
        "x_test = x_test.reshape((-1,28,28, 3)) #NOT SURE IF WE NEED\n",
        "\"\"\"\n",
        "\n",
        "plt.imshow(bw_x_train[0])\n",
        "\n",
        "#ERROR OUT OF BOUNDS BC DIMENSIONS AREN'T RIGHT\n",
        "num_classes = 8\n",
        "# y_train = pd.DataFrame(data=y_train)\n",
        "# y_test = pd.DataFrame(data=y_test)\n",
        "# y_train = pd.DataFrame(index=np.arange(700))\n",
        "# y_test = pd.DataFrame(index=np.arange(700))\n",
        "bw_y_train = keras.utils.to_categorical(bw_y_train, num_classes=num_classes)\n",
        "bw_y_test = keras.utils.to_categorical(bw_y_test, num_classes=num_classes)\n"
      ]
    },
    {
      "cell_type": "code",
      "source": [
        "from sklearn.model_selection import train_test_split\n",
        "from tensorflow import keras\n",
        "\n",
        "comb_x_train, comb_x_test, comb_y_train, comb_y_test = train_test_split(comb_img_array, comb_transformed_labels, test_size=0.3)\n",
        "\n",
        "print(comb_x_train[0].shape)\n",
        "\n",
        "comb_x_train = comb_x_train/255.0\n",
        "comb_x_test = comb_x_test/255.0\n",
        "\n",
        "\"\"\"x_train = x_train.reshape((-1,28,28, 3)) #NOT SURE IF WE NEED\n",
        "x_test = x_test.reshape((-1,28,28, 3)) #NOT SURE IF WE NEED\n",
        "\"\"\"\n",
        "\n",
        "plt.imshow(comb_x_train[0])\n",
        "\n",
        "#ERROR OUT OF BOUNDS BC DIMENSIONS AREN'T RIGHT\n",
        "num_classes = 8\n",
        "# y_train = pd.DataFrame(data=y_train)\n",
        "# y_test = pd.DataFrame(data=y_test)\n",
        "# y_train = pd.DataFrame(index=np.arange(700))\n",
        "# y_test = pd.DataFrame(index=np.arange(700))\n",
        "comb_y_train = keras.utils.to_categorical(comb_y_train, num_classes=num_classes)\n",
        "comb_y_test = keras.utils.to_categorical(comb_y_test, num_classes=num_classes)\n"
      ],
      "metadata": {
        "id": "itCKu35CEcCd"
      },
      "execution_count": null,
      "outputs": []
    },
    {
      "cell_type": "markdown",
      "metadata": {
        "id": "QMTr0QaK76t4"
      },
      "source": [
        "## Architecture One"
      ]
    },
    {
      "cell_type": "code",
      "execution_count": 11,
      "metadata": {
        "colab": {
          "base_uri": "https://localhost:8080/"
        },
        "id": "VPabtB-Gyyxd",
        "outputId": "af9fec26-88d1-4830-ebc5-47b858803d4a"
      },
      "outputs": [
        {
          "output_type": "stream",
          "name": "stdout",
          "text": [
            "Model: \"sequential\"\n",
            "_________________________________________________________________\n",
            " Layer (type)                Output Shape              Param #   \n",
            "=================================================================\n",
            " conv2d (Conv2D)             (None, 253, 253, 32)      896       \n",
            "                                                                 \n",
            " max_pooling2d (MaxPooling2  (None, 126, 126, 32)      0         \n",
            " D)                                                              \n",
            "                                                                 \n",
            " conv2d_1 (Conv2D)           (None, 124, 124, 64)      18496     \n",
            "                                                                 \n",
            " max_pooling2d_1 (MaxPoolin  (None, 62, 62, 64)        0         \n",
            " g2D)                                                            \n",
            "                                                                 \n",
            " flatten (Flatten)           (None, 246016)            0         \n",
            "                                                                 \n",
            " dropout (Dropout)           (None, 246016)            0         \n",
            "                                                                 \n",
            " dense (Dense)               (None, 8)                 1968136   \n",
            "                                                                 \n",
            "=================================================================\n",
            "Total params: 1987528 (7.58 MB)\n",
            "Trainable params: 1987528 (7.58 MB)\n",
            "Non-trainable params: 0 (0.00 Byte)\n",
            "_________________________________________________________________\n"
          ]
        }
      ],
      "source": [
        "import numpy as np\n",
        "from tensorflow import keras\n",
        "from tensorflow.keras import layers\n",
        "#input_shape = (-1,28,28)\n",
        "#input_shape = (28,28,1)\n",
        "\n",
        "\n",
        "model1 = keras.Sequential(\n",
        "    [\n",
        "        layers.Conv2D(32, (3, 3), activation='relu', input_shape=(255, 255, 3)),\n",
        "        layers.MaxPooling2D(pool_size=(2, 2)),\n",
        "        layers.Conv2D(64, (3, 3), activation='relu'),\n",
        "        layers.MaxPooling2D((2, 2)),\n",
        "        layers.Flatten(),\n",
        "        layers.Dropout(0.5),\n",
        "        layers.Dense(num_classes, activation=\"sigmoid\"),\n",
        "    ]\n",
        ")\n",
        "\n",
        "model1.summary()"
      ]
    },
    {
      "cell_type": "markdown",
      "metadata": {
        "id": "oHfWHJfR8LbN"
      },
      "source": [
        "## Architecture Two"
      ]
    },
    {
      "cell_type": "code",
      "execution_count": 12,
      "metadata": {
        "colab": {
          "base_uri": "https://localhost:8080/"
        },
        "id": "5fcILIsd8nXj",
        "outputId": "c9c010f6-c29b-43e9-c253-a5a59142cf98"
      },
      "outputs": [
        {
          "output_type": "stream",
          "name": "stdout",
          "text": [
            "Model: \"sequential_1\"\n",
            "_________________________________________________________________\n",
            " Layer (type)                Output Shape              Param #   \n",
            "=================================================================\n",
            " random_flip (RandomFlip)    (None, 255, 255, 3)       0         \n",
            "                                                                 \n",
            " conv2d_2 (Conv2D)           (None, 253, 253, 32)      896       \n",
            "                                                                 \n",
            " max_pooling2d_2 (MaxPoolin  (None, 126, 126, 32)      0         \n",
            " g2D)                                                            \n",
            "                                                                 \n",
            " conv2d_3 (Conv2D)           (None, 124, 124, 64)      18496     \n",
            "                                                                 \n",
            " max_pooling2d_3 (MaxPoolin  (None, 62, 62, 64)        0         \n",
            " g2D)                                                            \n",
            "                                                                 \n",
            " conv2d_4 (Conv2D)           (None, 60, 60, 128)       73856     \n",
            "                                                                 \n",
            " max_pooling2d_4 (MaxPoolin  (None, 30, 30, 128)       0         \n",
            " g2D)                                                            \n",
            "                                                                 \n",
            " conv2d_5 (Conv2D)           (None, 28, 28, 256)       295168    \n",
            "                                                                 \n",
            " max_pooling2d_5 (MaxPoolin  (None, 14, 14, 256)       0         \n",
            " g2D)                                                            \n",
            "                                                                 \n",
            " flatten_1 (Flatten)         (None, 50176)             0         \n",
            "                                                                 \n",
            " dropout_1 (Dropout)         (None, 50176)             0         \n",
            "                                                                 \n",
            " dense_1 (Dense)             (None, 8)                 401416    \n",
            "                                                                 \n",
            "=================================================================\n",
            "Total params: 789832 (3.01 MB)\n",
            "Trainable params: 789832 (3.01 MB)\n",
            "Non-trainable params: 0 (0.00 Byte)\n",
            "_________________________________________________________________\n"
          ]
        }
      ],
      "source": [
        "import numpy as np\n",
        "from tensorflow import keras\n",
        "from tensorflow.keras import layers\n",
        "\n",
        "model2 = keras.Sequential(\n",
        "    [\n",
        "        layers.RandomFlip(\"horizontal\", input_shape=(255,255,3)),\n",
        "        layers.Conv2D(32, (3, 3), activation='relu', input_shape=(255, 255, 3)),\n",
        "        layers.MaxPooling2D(pool_size=(2, 2)),\n",
        "        layers.Conv2D(64, (3, 3), activation='relu'),\n",
        "        layers.MaxPooling2D((2, 2)),\n",
        "        layers.Conv2D(128, (3, 3), activation='relu', input_shape=(255, 255, 3)),\n",
        "        layers.MaxPooling2D(pool_size=(2, 2)),\n",
        "        layers.Conv2D(256, (3, 3), activation='relu'),\n",
        "        layers.MaxPooling2D((2, 2)),\n",
        "        layers.Flatten(),\n",
        "        layers.Dropout(0.5),\n",
        "        layers.Dense(num_classes, activation=\"sigmoid\"),\n",
        "    ]\n",
        ")\n",
        "\n",
        "\"\"\"model2.summary()\"\"\"\n",
        "model2.summary()"
      ]
    },
    {
      "cell_type": "markdown",
      "metadata": {
        "id": "vK6R3tR08AfE"
      },
      "source": [
        "## Architecture Three"
      ]
    },
    {
      "cell_type": "code",
      "execution_count": 13,
      "metadata": {
        "id": "W2557Kv7-hll",
        "colab": {
          "base_uri": "https://localhost:8080/"
        },
        "outputId": "4acf4ef5-4f66-4edf-b37d-0897da4c93e9"
      },
      "outputs": [
        {
          "output_type": "stream",
          "name": "stdout",
          "text": [
            "Downloading data from https://storage.googleapis.com/tensorflow/keras-applications/vgg16/vgg16_weights_tf_dim_ordering_tf_kernels_notop.h5\n",
            "58889256/58889256 [==============================] - 0s 0us/step\n"
          ]
        }
      ],
      "source": [
        "import tensorflow as tf\n",
        "from keras.applications.vgg16 import VGG16\n",
        "from keras.models import Model\n",
        "from tensorflow.keras import layers\n",
        "# preprocess_input subtracts pixel mean values from the inputs,\n",
        "# which is what VGG16 expected\n",
        "from tensorflow.keras.applications.vgg16 import preprocess_input\n",
        "import tensorflow_datasets as tfds\n",
        "\n",
        "\n",
        "model3 = VGG16(include_top=False, input_shape=(255, 255, 3)) # we'll replace the \"top\" with our own layers\n",
        "for layer in model3.layers:\n",
        "    layer.trainable = False  # these won't learn\n",
        "# add new classifier layers\n",
        "flat = layers.Flatten()(model3.layers[-1].output) # connect to last layer of VGG\n",
        "drop1 = layers.Dropout(0.5)(flat)\n",
        "cls = layers.Dense(128, activation='relu')(drop1)\n",
        "drop2 = layers.Dropout(0.5)(cls)\n",
        "output = layers.Dense(num_classes, activation=\"sigmoid\")(drop2)  #SIGMOID CHANGE\n",
        "# define new model\n",
        "model3 = Model(inputs=model3.inputs, outputs=output)\n",
        "\n",
        "\n",
        "# compile model\n",
        "\n",
        "model3.compile(optimizer=\"adam\", loss='binary_crossentropy', metrics=['accuracy']) #BINARY CROSS CHANGE\n",
        "\n"
      ]
    },
    {
      "cell_type": "markdown",
      "metadata": {
        "id": "H_PXbFXlDw6a"
      },
      "source": [
        "##Architecture Four"
      ]
    },
    {
      "cell_type": "code",
      "execution_count": 14,
      "metadata": {
        "id": "5GCuKgELDv2i",
        "colab": {
          "base_uri": "https://localhost:8080/"
        },
        "outputId": "11a160fe-1437-44a8-b20d-eab814287bc2"
      },
      "outputs": [
        {
          "output_type": "stream",
          "name": "stdout",
          "text": [
            "Model: \"sequential_2\"\n",
            "_________________________________________________________________\n",
            " Layer (type)                Output Shape              Param #   \n",
            "=================================================================\n",
            " random_flip_1 (RandomFlip)  (None, 255, 255, 3)       0         \n",
            "                                                                 \n",
            " conv2d_6 (Conv2D)           (None, 253, 253, 32)      896       \n",
            "                                                                 \n",
            " batch_normalization (Batch  (None, 253, 253, 32)      128       \n",
            " Normalization)                                                  \n",
            "                                                                 \n",
            " max_pooling2d_6 (MaxPoolin  (None, 126, 126, 32)      0         \n",
            " g2D)                                                            \n",
            "                                                                 \n",
            " conv2d_7 (Conv2D)           (None, 124, 124, 64)      18496     \n",
            "                                                                 \n",
            " batch_normalization_1 (Bat  (None, 124, 124, 64)      256       \n",
            " chNormalization)                                                \n",
            "                                                                 \n",
            " max_pooling2d_7 (MaxPoolin  (None, 62, 62, 64)        0         \n",
            " g2D)                                                            \n",
            "                                                                 \n",
            " conv2d_8 (Conv2D)           (None, 60, 60, 128)       73856     \n",
            "                                                                 \n",
            " batch_normalization_2 (Bat  (None, 60, 60, 128)       512       \n",
            " chNormalization)                                                \n",
            "                                                                 \n",
            " max_pooling2d_8 (MaxPoolin  (None, 30, 30, 128)       0         \n",
            " g2D)                                                            \n",
            "                                                                 \n",
            " conv2d_9 (Conv2D)           (None, 28, 28, 256)       295168    \n",
            "                                                                 \n",
            " batch_normalization_3 (Bat  (None, 28, 28, 256)       1024      \n",
            " chNormalization)                                                \n",
            "                                                                 \n",
            " max_pooling2d_9 (MaxPoolin  (None, 14, 14, 256)       0         \n",
            " g2D)                                                            \n",
            "                                                                 \n",
            " flatten_3 (Flatten)         (None, 50176)             0         \n",
            "                                                                 \n",
            " dropout_4 (Dropout)         (None, 50176)             0         \n",
            "                                                                 \n",
            " dense_4 (Dense)             (None, 256)               12845312  \n",
            "                                                                 \n",
            " dense_5 (Dense)             (None, 8)                 2056      \n",
            "                                                                 \n",
            "=================================================================\n",
            "Total params: 13237704 (50.50 MB)\n",
            "Trainable params: 13236744 (50.49 MB)\n",
            "Non-trainable params: 960 (3.75 KB)\n",
            "_________________________________________________________________\n"
          ]
        }
      ],
      "source": [
        "model4 = keras.Sequential(\n",
        "    [\n",
        "        layers.Input(shape=(255, 255, 3)),\n",
        "        layers.RandomFlip(\"horizontal\"),\n",
        "        layers.Conv2D(32, (3, 3), activation='relu'),\n",
        "        layers.BatchNormalization(),\n",
        "        layers.MaxPooling2D(pool_size=(2, 2)),\n",
        "        layers.Conv2D(64, (3, 3), activation='relu'),\n",
        "        layers.BatchNormalization(),\n",
        "        layers.MaxPooling2D((2, 2)),\n",
        "        layers.Conv2D(128, (3, 3), activation='relu'),\n",
        "        layers.BatchNormalization(),\n",
        "        layers.MaxPooling2D(pool_size=(2, 2)),\n",
        "        layers.Conv2D(256, (3, 3), activation='relu'),\n",
        "        layers.BatchNormalization(),\n",
        "        layers.MaxPooling2D((2, 2)),\n",
        "        layers.Flatten(),\n",
        "        layers.Dropout(0.5),\n",
        "        layers.Dense(256, activation='relu'),\n",
        "        layers.Dense(num_classes, activation='sigmoid'),\n",
        "    ]\n",
        ")\n",
        "\n",
        "model4.summary()\n"
      ]
    },
    {
      "cell_type": "markdown",
      "source": [
        "## Architecture 5"
      ],
      "metadata": {
        "id": "VoMzTc1dJrWR"
      }
    },
    {
      "cell_type": "code",
      "source": [
        "# architecture 5 with less parameters\n",
        "model5 = keras.Sequential([\n",
        "    layers.Input(shape=(255,255,3)),\n",
        "    layers.RandomFlip(\"horizontal\"),\n",
        "    layers.Conv2D(64, (3, 3), activation='relu'),\n",
        "    layers.BatchNormalization(),\n",
        "    layers.MaxPooling2D(pool_size=(2,2)),\n",
        "    # layers.Conv2D(16, (3, 3), activation='relu'),\n",
        "    # layers.BatchNormalization(),\n",
        "    # layers.MaxPooling2D(pool_size=(2,2)),\n",
        "    # layers.Conv2D(32, (3, 3), activation='relu'),\n",
        "    # layers.BatchNormalization(),\n",
        "    # layers.Conv2D(64, (3, 3), activation='relu'),\n",
        "    # layers.BatchNormalization(),\n",
        "    # layers.MaxPooling2D(pool_size=(2,2)),\n",
        "    # layers.Conv2D(128, (3, 3), activation='relu'),\n",
        "    # layers.BatchNormalization(),\n",
        "    # layers.MaxPooling2D(pool_size=(2,2)),\n",
        "    layers.Flatten(),\n",
        "    layers.Dense(128, activation=\"relu\"),\n",
        "    # layers.Dropout(0.1),\n",
        "    # layers.Dense(4, activation='relu'),\n",
        "    layers.Dense(num_classes, activation='sigmoid')\n",
        "])\n",
        "\n",
        "model5.summary()"
      ],
      "metadata": {
        "colab": {
          "base_uri": "https://localhost:8080/"
        },
        "id": "d4CDNhh7Jy6Y",
        "outputId": "04d6443d-96de-4a6b-ab7c-1d3b7df9369f"
      },
      "execution_count": 15,
      "outputs": [
        {
          "output_type": "stream",
          "name": "stdout",
          "text": [
            "Model: \"sequential_3\"\n",
            "_________________________________________________________________\n",
            " Layer (type)                Output Shape              Param #   \n",
            "=================================================================\n",
            " random_flip_2 (RandomFlip)  (None, 255, 255, 3)       0         \n",
            "                                                                 \n",
            " conv2d_10 (Conv2D)          (None, 253, 253, 64)      1792      \n",
            "                                                                 \n",
            " batch_normalization_4 (Bat  (None, 253, 253, 64)      256       \n",
            " chNormalization)                                                \n",
            "                                                                 \n",
            " max_pooling2d_10 (MaxPooli  (None, 126, 126, 64)      0         \n",
            " ng2D)                                                           \n",
            "                                                                 \n",
            " flatten_4 (Flatten)         (None, 1016064)           0         \n",
            "                                                                 \n",
            " dense_6 (Dense)             (None, 128)               130056320 \n",
            "                                                                 \n",
            " dense_7 (Dense)             (None, 8)                 1032      \n",
            "                                                                 \n",
            "=================================================================\n",
            "Total params: 130059400 (496.14 MB)\n",
            "Trainable params: 130059272 (496.14 MB)\n",
            "Non-trainable params: 128 (512.00 Byte)\n",
            "_________________________________________________________________\n"
          ]
        }
      ]
    },
    {
      "cell_type": "markdown",
      "source": [
        "## Architecture Other"
      ],
      "metadata": {
        "id": "R7GDtrlFz1ov"
      }
    },
    {
      "cell_type": "code",
      "source": [
        "# funny tests\n",
        "model6 = keras.Sequential([\n",
        "    layers.Input(shape=(255,255,3)),\n",
        "    layers.Flatten(),\n",
        "    layers.Dense(16, activation='relu'),\n",
        "    layers.Dense(16, activation='relu'),\n",
        "    layers.Dense(num_classes, activation='sigmoid')\n",
        "])"
      ],
      "metadata": {
        "id": "xBIQLg0zz0rB"
      },
      "execution_count": 25,
      "outputs": []
    },
    {
      "cell_type": "markdown",
      "source": [
        "# Original Dataset Testing"
      ],
      "metadata": {
        "id": "NMmVt96acDZb"
      }
    },
    {
      "cell_type": "code",
      "source": [
        "batch_size = 128\n",
        "epochs = 15\n",
        "model1.compile(loss=\"binary_crossentropy\", optimizer=\"adam\", metrics=[\"accuracy\"])\n",
        "model1.fit(x_train, y_train, batch_size=batch_size, epochs=epochs, validation_split=0.1)"
      ],
      "metadata": {
        "colab": {
          "base_uri": "https://localhost:8080/"
        },
        "id": "qPnRTeLVHa6U",
        "outputId": "dc4c4ed8-a895-45d5-b250-dffee83de827"
      },
      "execution_count": 21,
      "outputs": [
        {
          "output_type": "stream",
          "name": "stdout",
          "text": [
            "Epoch 1/15\n",
            "4/4 [==============================] - 3s 292ms/step - loss: 1.2755 - accuracy: 0.2055 - val_loss: 0.6024 - val_accuracy: 0.3469\n",
            "Epoch 2/15\n",
            "4/4 [==============================] - 1s 193ms/step - loss: 0.4953 - accuracy: 0.2671 - val_loss: 0.4502 - val_accuracy: 0.2041\n",
            "Epoch 3/15\n",
            "4/4 [==============================] - 1s 167ms/step - loss: 0.4668 - accuracy: 0.2831 - val_loss: 0.3972 - val_accuracy: 0.1837\n",
            "Epoch 4/15\n",
            "4/4 [==============================] - 1s 172ms/step - loss: 0.3714 - accuracy: 0.2968 - val_loss: 0.3826 - val_accuracy: 0.3469\n",
            "Epoch 5/15\n",
            "4/4 [==============================] - 1s 172ms/step - loss: 0.3715 - accuracy: 0.2945 - val_loss: 0.3543 - val_accuracy: 0.2653\n",
            "Epoch 6/15\n",
            "4/4 [==============================] - 1s 172ms/step - loss: 0.3456 - accuracy: 0.3265 - val_loss: 0.3520 - val_accuracy: 0.2857\n",
            "Epoch 7/15\n",
            "4/4 [==============================] - 1s 172ms/step - loss: 0.3413 - accuracy: 0.3082 - val_loss: 0.3467 - val_accuracy: 0.2653\n",
            "Epoch 8/15\n",
            "4/4 [==============================] - 1s 175ms/step - loss: 0.3311 - accuracy: 0.3219 - val_loss: 0.3402 - val_accuracy: 0.2653\n",
            "Epoch 9/15\n",
            "4/4 [==============================] - 1s 173ms/step - loss: 0.3223 - accuracy: 0.3311 - val_loss: 0.3295 - val_accuracy: 0.2857\n",
            "Epoch 10/15\n",
            "4/4 [==============================] - 1s 166ms/step - loss: 0.3115 - accuracy: 0.3562 - val_loss: 0.3371 - val_accuracy: 0.2041\n",
            "Epoch 11/15\n",
            "4/4 [==============================] - 1s 169ms/step - loss: 0.2995 - accuracy: 0.4087 - val_loss: 0.3438 - val_accuracy: 0.2041\n",
            "Epoch 12/15\n",
            "4/4 [==============================] - 1s 169ms/step - loss: 0.2880 - accuracy: 0.4338 - val_loss: 0.3485 - val_accuracy: 0.2653\n",
            "Epoch 13/15\n",
            "4/4 [==============================] - 1s 168ms/step - loss: 0.2738 - accuracy: 0.5000 - val_loss: 0.3600 - val_accuracy: 0.2245\n",
            "Epoch 14/15\n",
            "4/4 [==============================] - 1s 169ms/step - loss: 0.2620 - accuracy: 0.5594 - val_loss: 0.3608 - val_accuracy: 0.2449\n",
            "Epoch 15/15\n",
            "4/4 [==============================] - 1s 163ms/step - loss: 0.2468 - accuracy: 0.5571 - val_loss: 0.3660 - val_accuracy: 0.1633\n"
          ]
        },
        {
          "output_type": "execute_result",
          "data": {
            "text/plain": [
              "<keras.src.callbacks.History at 0x7c81945ceb60>"
            ]
          },
          "metadata": {},
          "execution_count": 21
        }
      ]
    },
    {
      "cell_type": "code",
      "execution_count": null,
      "metadata": {
        "id": "K6HuXcXcEG4S"
      },
      "outputs": [],
      "source": [
        "batch_size = 128\n",
        "epochs = 50\n",
        "model4.compile(loss=\"binary_crossentropy\", optimizer=\"adam\", metrics=[\"accuracy\"])\n",
        "model4.fit(x_train, y_train, batch_size=batch_size, epochs=epochs, validation_split=0.1)"
      ]
    },
    {
      "cell_type": "code",
      "execution_count": null,
      "metadata": {
        "id": "hgiYJc5tEGL6",
        "colab": {
          "base_uri": "https://localhost:8080/"
        },
        "outputId": "1aaec904-544c-4da5-86a7-dc350d58e05d"
      },
      "outputs": [
        {
          "output_type": "stream",
          "name": "stdout",
          "text": [
            "Epoch 1/15\n",
            "4/4 [==============================] - 112s 25s/step - loss: 5.0502 - accuracy: 0.3464 - val_loss: 1.6896 - val_accuracy: 0.2857\n",
            "Epoch 2/15\n",
            "4/4 [==============================] - 104s 25s/step - loss: 2.9189 - accuracy: 0.3926 - val_loss: 1.4621 - val_accuracy: 0.2653\n",
            "Epoch 3/15\n",
            "4/4 [==============================] - 105s 26s/step - loss: 1.7673 - accuracy: 0.4527 - val_loss: 0.8123 - val_accuracy: 0.2653\n",
            "Epoch 4/15\n",
            "4/4 [==============================] - 102s 25s/step - loss: 1.0393 - accuracy: 0.5173 - val_loss: 1.0115 - val_accuracy: 0.2653\n",
            "Epoch 5/15\n",
            "4/4 [==============================] - 101s 24s/step - loss: 0.8948 - accuracy: 0.5681 - val_loss: 1.1615 - val_accuracy: 0.2449\n",
            "Epoch 6/15\n",
            "4/4 [==============================] - 103s 25s/step - loss: 0.7891 - accuracy: 0.6028 - val_loss: 1.2351 - val_accuracy: 0.0816\n",
            "Epoch 7/15\n",
            "4/4 [==============================] - 103s 25s/step - loss: 0.6603 - accuracy: 0.6351 - val_loss: 1.1038 - val_accuracy: 0.2041\n",
            "Epoch 8/15\n",
            "4/4 [==============================] - 103s 24s/step - loss: 0.6074 - accuracy: 0.7182 - val_loss: 0.9051 - val_accuracy: 0.2857\n",
            "Epoch 9/15\n",
            "4/4 [==============================] - 103s 25s/step - loss: 0.4814 - accuracy: 0.7460 - val_loss: 0.9274 - val_accuracy: 0.1224\n",
            "Epoch 10/15\n",
            "4/4 [==============================] - 101s 25s/step - loss: 0.4428 - accuracy: 0.7621 - val_loss: 1.0055 - val_accuracy: 0.2449\n",
            "Epoch 11/15\n",
            "4/4 [==============================] - 101s 25s/step - loss: 0.3685 - accuracy: 0.8014 - val_loss: 1.1223 - val_accuracy: 0.2449\n",
            "Epoch 12/15\n",
            "4/4 [==============================] - 101s 25s/step - loss: 0.3067 - accuracy: 0.8152 - val_loss: 1.2624 - val_accuracy: 0.1633\n",
            "Epoch 13/15\n",
            "4/4 [==============================] - 101s 25s/step - loss: 0.2960 - accuracy: 0.8406 - val_loss: 1.3008 - val_accuracy: 0.2449\n",
            "Epoch 14/15\n",
            "4/4 [==============================] - 101s 24s/step - loss: 0.2808 - accuracy: 0.8337 - val_loss: 1.1221 - val_accuracy: 0.2653\n",
            "Epoch 15/15\n",
            "4/4 [==============================] - 103s 25s/step - loss: 0.1632 - accuracy: 0.8891 - val_loss: 1.1094 - val_accuracy: 0.1837\n"
          ]
        },
        {
          "output_type": "execute_result",
          "data": {
            "text/plain": [
              "<keras.src.callbacks.History at 0x7ec632c7b340>"
            ]
          },
          "metadata": {},
          "execution_count": 81
        }
      ],
      "source": [
        "batch_size = 128\n",
        "epochs = 15\n",
        "model4.compile(loss=\"binary_crossentropy\", optimizer=\"adam\", metrics=[\"accuracy\"])\n",
        "model4.fit(x_train, y_train, batch_size=batch_size, epochs=epochs, validation_split=0.1)"
      ]
    },
    {
      "cell_type": "code",
      "source": [
        "#FIT\n",
        "model3.fit(x_train, y_train, batch_size=128, epochs=15, validation_split=0.1)"
      ],
      "metadata": {
        "id": "sKNWlq1-ca-J",
        "colab": {
          "base_uri": "https://localhost:8080/"
        },
        "outputId": "8bc2e5a9-d910-4617-d2ba-757827bd60cf"
      },
      "execution_count": 17,
      "outputs": [
        {
          "output_type": "stream",
          "name": "stdout",
          "text": [
            "Epoch 1/15\n",
            "4/4 [==============================] - 33s 4s/step - loss: 0.7901 - accuracy: 0.1461 - val_loss: 0.4327 - val_accuracy: 0.2041\n",
            "Epoch 2/15\n",
            "4/4 [==============================] - 2s 607ms/step - loss: 0.5602 - accuracy: 0.2557 - val_loss: 0.3623 - val_accuracy: 0.3061\n",
            "Epoch 3/15\n",
            "4/4 [==============================] - 2s 616ms/step - loss: 0.4272 - accuracy: 0.2991 - val_loss: 0.3800 - val_accuracy: 0.1633\n",
            "Epoch 4/15\n",
            "4/4 [==============================] - 2s 608ms/step - loss: 0.4062 - accuracy: 0.2420 - val_loss: 0.3364 - val_accuracy: 0.2653\n",
            "Epoch 5/15\n",
            "4/4 [==============================] - 2s 618ms/step - loss: 0.3674 - accuracy: 0.3562 - val_loss: 0.3263 - val_accuracy: 0.4082\n",
            "Epoch 6/15\n",
            "4/4 [==============================] - 3s 639ms/step - loss: 0.3479 - accuracy: 0.4041 - val_loss: 0.3382 - val_accuracy: 0.3061\n",
            "Epoch 7/15\n",
            "4/4 [==============================] - 3s 622ms/step - loss: 0.3138 - accuracy: 0.4612 - val_loss: 0.3254 - val_accuracy: 0.2857\n",
            "Epoch 8/15\n",
            "4/4 [==============================] - 2s 621ms/step - loss: 0.3196 - accuracy: 0.4041 - val_loss: 0.3309 - val_accuracy: 0.3265\n",
            "Epoch 9/15\n",
            "4/4 [==============================] - 2s 618ms/step - loss: 0.2775 - accuracy: 0.5502 - val_loss: 0.3393 - val_accuracy: 0.3061\n",
            "Epoch 10/15\n",
            "4/4 [==============================] - 2s 613ms/step - loss: 0.2756 - accuracy: 0.5274 - val_loss: 0.3308 - val_accuracy: 0.2857\n",
            "Epoch 11/15\n",
            "4/4 [==============================] - 2s 618ms/step - loss: 0.2553 - accuracy: 0.5639 - val_loss: 0.3394 - val_accuracy: 0.2041\n",
            "Epoch 12/15\n",
            "4/4 [==============================] - 2s 621ms/step - loss: 0.2428 - accuracy: 0.5776 - val_loss: 0.3380 - val_accuracy: 0.2857\n",
            "Epoch 13/15\n",
            "4/4 [==============================] - 3s 631ms/step - loss: 0.2303 - accuracy: 0.6301 - val_loss: 0.3438 - val_accuracy: 0.3265\n",
            "Epoch 14/15\n",
            "4/4 [==============================] - 3s 628ms/step - loss: 0.2240 - accuracy: 0.6826 - val_loss: 0.3411 - val_accuracy: 0.2653\n",
            "Epoch 15/15\n",
            "4/4 [==============================] - 2s 620ms/step - loss: 0.2195 - accuracy: 0.6667 - val_loss: 0.3595 - val_accuracy: 0.2245\n"
          ]
        },
        {
          "output_type": "execute_result",
          "data": {
            "text/plain": [
              "<keras.src.callbacks.History at 0x7c80f4401a80>"
            ]
          },
          "metadata": {},
          "execution_count": 17
        }
      ]
    },
    {
      "cell_type": "code",
      "source": [
        "batch_size = 128\n",
        "epochs = 30\n",
        "model2.compile(loss=\"binary_crossentropy\", optimizer=\"adam\", metrics=[\"accuracy\"])\n",
        "model2.fit(x_train, y_train, batch_size=batch_size, epochs=epochs, validation_split=0.2)"
      ],
      "metadata": {
        "id": "VY53N6TScgeP"
      },
      "execution_count": null,
      "outputs": []
    },
    {
      "cell_type": "code",
      "source": [
        "# running architecture 2, more epochs\n",
        "# batch_size = 128\n",
        "# epochs = 30\n",
        "# model2.compile(loss=\"binary_crossentropy\", optimizer=\"adam\", metrics=[\"accuracy\"])\n",
        "# model2.fit(x_train, y_train, batch_size=batch_size, epochs=epochs, validation_split=0.1)"
      ],
      "metadata": {
        "id": "vExodGtycg7T"
      },
      "execution_count": null,
      "outputs": []
    },
    {
      "cell_type": "code",
      "source": [
        "# running architecture 2\n",
        "batch_size = 128\n",
        "epochs = 15\n",
        "model2.compile(loss=\"binary_crossentropy\", optimizer=\"adam\", metrics=[\"accuracy\"])\n",
        "model2.fit(x_train, y_train, batch_size=batch_size, epochs=epochs, validation_split=0.1)"
      ],
      "metadata": {
        "id": "HR6DR7xRckBg",
        "colab": {
          "base_uri": "https://localhost:8080/"
        },
        "outputId": "db2d0bf5-614e-442c-8caf-74403a86fe83"
      },
      "execution_count": 18,
      "outputs": [
        {
          "output_type": "stream",
          "name": "stdout",
          "text": [
            "Epoch 1/15\n",
            "4/4 [==============================] - 11s 1s/step - loss: 0.5420 - accuracy: 0.2009 - val_loss: 0.3882 - val_accuracy: 0.3469\n",
            "Epoch 2/15\n",
            "4/4 [==============================] - 1s 242ms/step - loss: 0.4296 - accuracy: 0.2374 - val_loss: 0.3623 - val_accuracy: 0.1633\n",
            "Epoch 3/15\n",
            "4/4 [==============================] - 1s 226ms/step - loss: 0.3677 - accuracy: 0.2306 - val_loss: 0.3644 - val_accuracy: 0.3469\n",
            "Epoch 4/15\n",
            "4/4 [==============================] - 1s 219ms/step - loss: 0.3571 - accuracy: 0.2671 - val_loss: 0.3403 - val_accuracy: 0.3469\n",
            "Epoch 5/15\n",
            "4/4 [==============================] - 1s 223ms/step - loss: 0.3583 - accuracy: 0.2671 - val_loss: 0.3316 - val_accuracy: 0.3469\n",
            "Epoch 6/15\n",
            "4/4 [==============================] - 1s 224ms/step - loss: 0.3475 - accuracy: 0.2671 - val_loss: 0.3332 - val_accuracy: 0.3469\n",
            "Epoch 7/15\n",
            "4/4 [==============================] - 1s 222ms/step - loss: 0.3463 - accuracy: 0.2671 - val_loss: 0.3297 - val_accuracy: 0.3469\n",
            "Epoch 8/15\n",
            "4/4 [==============================] - 1s 222ms/step - loss: 0.3431 - accuracy: 0.2717 - val_loss: 0.3281 - val_accuracy: 0.3469\n",
            "Epoch 9/15\n",
            "4/4 [==============================] - 1s 229ms/step - loss: 0.3401 - accuracy: 0.2648 - val_loss: 0.3275 - val_accuracy: 0.3469\n",
            "Epoch 10/15\n",
            "4/4 [==============================] - 1s 225ms/step - loss: 0.3386 - accuracy: 0.2671 - val_loss: 0.3266 - val_accuracy: 0.3469\n",
            "Epoch 11/15\n",
            "4/4 [==============================] - 1s 225ms/step - loss: 0.3377 - accuracy: 0.2671 - val_loss: 0.3279 - val_accuracy: 0.3469\n",
            "Epoch 12/15\n",
            "4/4 [==============================] - 1s 224ms/step - loss: 0.3356 - accuracy: 0.2671 - val_loss: 0.3304 - val_accuracy: 0.3265\n",
            "Epoch 13/15\n",
            "4/4 [==============================] - 1s 231ms/step - loss: 0.3351 - accuracy: 0.2603 - val_loss: 0.3307 - val_accuracy: 0.2449\n",
            "Epoch 14/15\n",
            "4/4 [==============================] - 1s 288ms/step - loss: 0.3340 - accuracy: 0.2763 - val_loss: 0.3274 - val_accuracy: 0.3469\n",
            "Epoch 15/15\n",
            "4/4 [==============================] - 1s 231ms/step - loss: 0.3328 - accuracy: 0.2648 - val_loss: 0.3272 - val_accuracy: 0.3469\n"
          ]
        },
        {
          "output_type": "execute_result",
          "data": {
            "text/plain": [
              "<keras.src.callbacks.History at 0x7c80e1f15570>"
            ]
          },
          "metadata": {},
          "execution_count": 18
        }
      ]
    },
    {
      "cell_type": "code",
      "source": [
        "# architecture 5\n",
        "batch_size = 128\n",
        "epochs = 15\n",
        "model5.compile(loss=\"binary_crossentropy\", optimizer=\"adam\", metrics=[\"accuracy\"])\n",
        "model5.fit(x_train, y_train, batch_size=batch_size, epochs=epochs, validation_split=0.1)"
      ],
      "metadata": {
        "colab": {
          "base_uri": "https://localhost:8080/"
        },
        "id": "wMshuiFLM6OP",
        "outputId": "84a8f2a6-3e55-4987-d8c0-564b3db1790d"
      },
      "execution_count": 19,
      "outputs": [
        {
          "output_type": "stream",
          "name": "stdout",
          "text": [
            "Epoch 1/15\n",
            "4/4 [==============================] - 5s 735ms/step - loss: 33.1852 - accuracy: 0.1826 - val_loss: 11.9542 - val_accuracy: 0.3469\n",
            "Epoch 2/15\n",
            "4/4 [==============================] - 1s 331ms/step - loss: 29.5506 - accuracy: 0.2808 - val_loss: 5.2618 - val_accuracy: 0.2245\n",
            "Epoch 3/15\n",
            "4/4 [==============================] - 1s 338ms/step - loss: 16.1727 - accuracy: 0.3904 - val_loss: 2.7065 - val_accuracy: 0.2653\n",
            "Epoch 4/15\n",
            "4/4 [==============================] - 2s 380ms/step - loss: 7.7156 - accuracy: 0.5228 - val_loss: 1.5788 - val_accuracy: 0.1429\n",
            "Epoch 5/15\n",
            "4/4 [==============================] - 2s 375ms/step - loss: 3.8183 - accuracy: 0.5251 - val_loss: 1.2081 - val_accuracy: 0.3061\n",
            "Epoch 6/15\n",
            "4/4 [==============================] - 1s 360ms/step - loss: 2.1855 - accuracy: 0.6461 - val_loss: 0.6888 - val_accuracy: 0.2041\n",
            "Epoch 7/15\n",
            "4/4 [==============================] - 1s 344ms/step - loss: 1.3686 - accuracy: 0.7215 - val_loss: 0.7615 - val_accuracy: 0.1429\n",
            "Epoch 8/15\n",
            "4/4 [==============================] - 1s 330ms/step - loss: 0.9108 - accuracy: 0.7945 - val_loss: 0.7257 - val_accuracy: 0.1429\n",
            "Epoch 9/15\n",
            "4/4 [==============================] - 1s 323ms/step - loss: 0.6470 - accuracy: 0.8242 - val_loss: 0.6977 - val_accuracy: 0.2449\n",
            "Epoch 10/15\n",
            "4/4 [==============================] - 1s 327ms/step - loss: 0.5384 - accuracy: 0.8265 - val_loss: 0.7548 - val_accuracy: 0.1837\n",
            "Epoch 11/15\n",
            "4/4 [==============================] - 1s 333ms/step - loss: 0.4270 - accuracy: 0.8539 - val_loss: 0.8465 - val_accuracy: 0.2245\n",
            "Epoch 12/15\n",
            "4/4 [==============================] - 1s 325ms/step - loss: 0.2326 - accuracy: 0.8995 - val_loss: 0.8369 - val_accuracy: 0.3469\n",
            "Epoch 13/15\n",
            "4/4 [==============================] - 1s 355ms/step - loss: 0.2407 - accuracy: 0.8881 - val_loss: 0.9005 - val_accuracy: 0.3469\n",
            "Epoch 14/15\n",
            "4/4 [==============================] - 1s 352ms/step - loss: 0.2079 - accuracy: 0.9224 - val_loss: 0.8790 - val_accuracy: 0.3673\n",
            "Epoch 15/15\n",
            "4/4 [==============================] - 1s 330ms/step - loss: 0.1780 - accuracy: 0.9178 - val_loss: 0.8812 - val_accuracy: 0.3673\n"
          ]
        },
        {
          "output_type": "execute_result",
          "data": {
            "text/plain": [
              "<keras.src.callbacks.History at 0x7c80e1d30a30>"
            ]
          },
          "metadata": {},
          "execution_count": 19
        }
      ]
    },
    {
      "cell_type": "code",
      "source": [
        "# architecture 5\n",
        "batch_size = 128\n",
        "epochs = 25\n",
        "model5.compile(loss=\"binary_crossentropy\", optimizer=\"adam\", metrics=[\"accuracy\"])\n",
        "model5.fit(x_train, y_train, batch_size=batch_size, epochs=epochs, validation_split=0.1)"
      ],
      "metadata": {
        "id": "lr_i8bcoJlfR"
      },
      "execution_count": null,
      "outputs": []
    },
    {
      "cell_type": "code",
      "source": [
        "# architecture other\n",
        "batch_size = 128\n",
        "epochs = 15\n",
        "model6.compile(loss=\"binary_crossentropy\", optimizer=\"adam\", metrics=[\"accuracy\"])\n",
        "model6.fit(x_train, y_train, batch_size=batch_size, epochs=epochs, validation_split=0.1)"
      ],
      "metadata": {
        "colab": {
          "base_uri": "https://localhost:8080/"
        },
        "id": "aqVEDx3oCMtj",
        "outputId": "8f891e2a-fbf6-41b2-dbec-1bd79861929b"
      },
      "execution_count": 26,
      "outputs": [
        {
          "output_type": "stream",
          "name": "stdout",
          "text": [
            "Epoch 1/15\n",
            "4/4 [==============================] - 1s 153ms/step - loss: 7.3307 - accuracy: 0.1735 - val_loss: 7.4440 - val_accuracy: 0.1633\n",
            "Epoch 2/15\n",
            "4/4 [==============================] - 0s 76ms/step - loss: 5.8112 - accuracy: 0.1689 - val_loss: 3.8412 - val_accuracy: 0.1633\n",
            "Epoch 3/15\n",
            "4/4 [==============================] - 0s 79ms/step - loss: 3.0067 - accuracy: 0.0913 - val_loss: 4.5110 - val_accuracy: 0.0000e+00\n",
            "Epoch 4/15\n",
            "4/4 [==============================] - 0s 77ms/step - loss: 3.7344 - accuracy: 0.1164 - val_loss: 2.5109 - val_accuracy: 0.0816\n",
            "Epoch 5/15\n",
            "4/4 [==============================] - 0s 68ms/step - loss: 2.2845 - accuracy: 0.1689 - val_loss: 3.4219 - val_accuracy: 0.1224\n",
            "Epoch 6/15\n",
            "4/4 [==============================] - 0s 84ms/step - loss: 2.4939 - accuracy: 0.1553 - val_loss: 3.0399 - val_accuracy: 0.0816\n",
            "Epoch 7/15\n",
            "4/4 [==============================] - 0s 77ms/step - loss: 1.9493 - accuracy: 0.1644 - val_loss: 1.9461 - val_accuracy: 0.0816\n",
            "Epoch 8/15\n",
            "4/4 [==============================] - 0s 74ms/step - loss: 1.7348 - accuracy: 0.1530 - val_loss: 1.9990 - val_accuracy: 0.0204\n",
            "Epoch 9/15\n",
            "4/4 [==============================] - 0s 75ms/step - loss: 1.6178 - accuracy: 0.1005 - val_loss: 1.3976 - val_accuracy: 0.2449\n",
            "Epoch 10/15\n",
            "4/4 [==============================] - 0s 77ms/step - loss: 1.2018 - accuracy: 0.1781 - val_loss: 1.4582 - val_accuracy: 0.0816\n",
            "Epoch 11/15\n",
            "4/4 [==============================] - 0s 79ms/step - loss: 1.0371 - accuracy: 0.1484 - val_loss: 1.3676 - val_accuracy: 0.2653\n",
            "Epoch 12/15\n",
            "4/4 [==============================] - 0s 94ms/step - loss: 0.9972 - accuracy: 0.2283 - val_loss: 1.0302 - val_accuracy: 0.0408\n",
            "Epoch 13/15\n",
            "4/4 [==============================] - 0s 77ms/step - loss: 0.7583 - accuracy: 0.2603 - val_loss: 1.1771 - val_accuracy: 0.1633\n",
            "Epoch 14/15\n",
            "4/4 [==============================] - 0s 83ms/step - loss: 0.7305 - accuracy: 0.2900 - val_loss: 0.7082 - val_accuracy: 0.2653\n",
            "Epoch 15/15\n",
            "4/4 [==============================] - 0s 57ms/step - loss: 0.6085 - accuracy: 0.2511 - val_loss: 0.8870 - val_accuracy: 0.3469\n"
          ]
        },
        {
          "output_type": "execute_result",
          "data": {
            "text/plain": [
              "<keras.src.callbacks.History at 0x7c807ef1a8f0>"
            ]
          },
          "metadata": {},
          "execution_count": 26
        }
      ]
    },
    {
      "cell_type": "code",
      "source": [
        "# architecture other\n",
        "batch_size = 128\n",
        "epochs = 30\n",
        "model6.compile(loss=\"binary_crossentropy\", optimizer=\"adam\", metrics=[\"accuracy\"])\n",
        "model6.fit(x_train, y_train, batch_size=batch_size, epochs=epochs, validation_split=0.1)"
      ],
      "metadata": {
        "colab": {
          "base_uri": "https://localhost:8080/"
        },
        "id": "00o0j_zqI9tg",
        "outputId": "92be3bf5-1d55-431b-9d54-dce920b26da1"
      },
      "execution_count": 22,
      "outputs": [
        {
          "output_type": "stream",
          "name": "stdout",
          "text": [
            "Epoch 1/30\n",
            "4/4 [==============================] - 2s 155ms/step - loss: 0.6314 - accuracy: 0.2009 - val_loss: 0.6813 - val_accuracy: 0.1633\n",
            "Epoch 2/30\n",
            "4/4 [==============================] - 0s 84ms/step - loss: 0.6804 - accuracy: 0.2260 - val_loss: 0.6792 - val_accuracy: 0.1633\n",
            "Epoch 3/30\n",
            "4/4 [==============================] - 0s 83ms/step - loss: 0.6782 - accuracy: 0.2260 - val_loss: 0.6771 - val_accuracy: 0.1633\n",
            "Epoch 4/30\n",
            "4/4 [==============================] - 0s 78ms/step - loss: 0.6761 - accuracy: 0.2260 - val_loss: 0.6749 - val_accuracy: 0.1633\n",
            "Epoch 5/30\n",
            "4/4 [==============================] - 0s 77ms/step - loss: 0.6739 - accuracy: 0.2260 - val_loss: 0.6727 - val_accuracy: 0.1633\n",
            "Epoch 6/30\n",
            "4/4 [==============================] - 0s 100ms/step - loss: 0.6717 - accuracy: 0.2260 - val_loss: 0.6705 - val_accuracy: 0.1633\n",
            "Epoch 7/30\n",
            "4/4 [==============================] - 0s 74ms/step - loss: 0.6694 - accuracy: 0.2260 - val_loss: 0.6682 - val_accuracy: 0.1633\n",
            "Epoch 8/30\n",
            "4/4 [==============================] - 0s 97ms/step - loss: 0.6672 - accuracy: 0.2260 - val_loss: 0.6660 - val_accuracy: 0.1633\n",
            "Epoch 9/30\n",
            "4/4 [==============================] - 0s 83ms/step - loss: 0.6649 - accuracy: 0.2260 - val_loss: 0.6638 - val_accuracy: 0.1633\n",
            "Epoch 10/30\n",
            "4/4 [==============================] - 0s 79ms/step - loss: 0.6626 - accuracy: 0.2260 - val_loss: 0.6614 - val_accuracy: 0.1633\n",
            "Epoch 11/30\n",
            "4/4 [==============================] - 0s 78ms/step - loss: 0.6603 - accuracy: 0.2260 - val_loss: 0.6591 - val_accuracy: 0.1633\n",
            "Epoch 12/30\n",
            "4/4 [==============================] - 0s 81ms/step - loss: 0.6579 - accuracy: 0.2260 - val_loss: 0.6567 - val_accuracy: 0.1633\n",
            "Epoch 13/30\n",
            "4/4 [==============================] - 0s 84ms/step - loss: 0.6554 - accuracy: 0.2260 - val_loss: 0.6542 - val_accuracy: 0.1633\n",
            "Epoch 14/30\n",
            "4/4 [==============================] - 0s 69ms/step - loss: 0.6529 - accuracy: 0.2260 - val_loss: 0.6517 - val_accuracy: 0.0612\n",
            "Epoch 15/30\n",
            "4/4 [==============================] - 0s 74ms/step - loss: 0.6504 - accuracy: 0.0708 - val_loss: 0.6491 - val_accuracy: 0.0612\n",
            "Epoch 16/30\n",
            "4/4 [==============================] - 0s 78ms/step - loss: 0.6478 - accuracy: 0.0708 - val_loss: 0.6465 - val_accuracy: 0.0612\n",
            "Epoch 17/30\n",
            "4/4 [==============================] - 0s 86ms/step - loss: 0.6452 - accuracy: 0.0708 - val_loss: 0.6439 - val_accuracy: 0.0612\n",
            "Epoch 18/30\n",
            "4/4 [==============================] - 0s 77ms/step - loss: 0.6424 - accuracy: 0.0708 - val_loss: 0.6411 - val_accuracy: 0.0612\n",
            "Epoch 19/30\n",
            "4/4 [==============================] - 0s 72ms/step - loss: 0.6397 - accuracy: 0.0708 - val_loss: 0.6383 - val_accuracy: 0.0612\n",
            "Epoch 20/30\n",
            "4/4 [==============================] - 0s 89ms/step - loss: 0.6369 - accuracy: 0.0708 - val_loss: 0.6355 - val_accuracy: 0.0612\n",
            "Epoch 21/30\n",
            "4/4 [==============================] - 0s 83ms/step - loss: 0.6340 - accuracy: 0.0708 - val_loss: 0.6326 - val_accuracy: 0.0612\n",
            "Epoch 22/30\n",
            "4/4 [==============================] - 0s 78ms/step - loss: 0.6311 - accuracy: 0.0708 - val_loss: 0.6296 - val_accuracy: 0.0612\n",
            "Epoch 23/30\n",
            "4/4 [==============================] - 0s 79ms/step - loss: 0.6281 - accuracy: 0.0708 - val_loss: 0.6266 - val_accuracy: 0.0612\n",
            "Epoch 24/30\n",
            "4/4 [==============================] - 0s 84ms/step - loss: 0.6250 - accuracy: 0.0708 - val_loss: 0.6236 - val_accuracy: 0.0612\n",
            "Epoch 25/30\n",
            "4/4 [==============================] - 0s 98ms/step - loss: 0.6219 - accuracy: 0.0708 - val_loss: 0.6204 - val_accuracy: 0.0612\n",
            "Epoch 26/30\n",
            "4/4 [==============================] - 0s 81ms/step - loss: 0.6188 - accuracy: 0.1210 - val_loss: 0.6173 - val_accuracy: 0.1224\n",
            "Epoch 27/30\n",
            "4/4 [==============================] - 0s 102ms/step - loss: 0.6156 - accuracy: 0.1461 - val_loss: 0.6140 - val_accuracy: 0.1224\n",
            "Epoch 28/30\n",
            "4/4 [==============================] - 0s 113ms/step - loss: 0.6124 - accuracy: 0.1461 - val_loss: 0.6108 - val_accuracy: 0.1224\n",
            "Epoch 29/30\n",
            "4/4 [==============================] - 1s 141ms/step - loss: 0.6091 - accuracy: 0.1461 - val_loss: 0.6075 - val_accuracy: 0.1224\n",
            "Epoch 30/30\n",
            "4/4 [==============================] - 0s 63ms/step - loss: 0.6057 - accuracy: 0.1461 - val_loss: 0.6041 - val_accuracy: 0.1224\n"
          ]
        },
        {
          "output_type": "execute_result",
          "data": {
            "text/plain": [
              "<keras.src.callbacks.History at 0x7c80e02030d0>"
            ]
          },
          "metadata": {},
          "execution_count": 22
        }
      ]
    },
    {
      "cell_type": "markdown",
      "source": [
        "# Combined Dataset Testing"
      ],
      "metadata": {
        "id": "qYHNmRGjJq5e"
      }
    },
    {
      "cell_type": "markdown",
      "source": [
        "comb_x_train, comb_x_test, comb_y_train, comb_y_test"
      ],
      "metadata": {
        "id": "AV1xoK3BKZDd"
      }
    },
    {
      "cell_type": "code",
      "source": [
        "# running architecture 1\n",
        "batch_size = 128\n",
        "epochs = 15\n",
        "model1.compile(loss=\"binary_crossentropy\", optimizer=\"adam\", metrics=[\"accuracy\"])\n",
        "model1.fit(comb_x_train, comb_y_train, batch_size=batch_size, epochs=epochs, validation_split=0.1)"
      ],
      "metadata": {
        "colab": {
          "base_uri": "https://localhost:8080/"
        },
        "id": "tVa73JN-Jvd6",
        "outputId": "27fa6ba8-b306-48de-f5fa-a5eadc52f745"
      },
      "execution_count": null,
      "outputs": [
        {
          "output_type": "stream",
          "name": "stdout",
          "text": [
            "Epoch 1/15\n",
            "5/5 [==============================] - 72s 12s/step - loss: 1.4967 - accuracy: 0.2071 - val_loss: 0.7104 - val_accuracy: 0.2381\n",
            "Epoch 2/15\n",
            "5/5 [==============================] - 60s 12s/step - loss: 0.5704 - accuracy: 0.2214 - val_loss: 0.5513 - val_accuracy: 0.2063\n",
            "Epoch 3/15\n",
            "5/5 [==============================] - 62s 12s/step - loss: 0.4877 - accuracy: 0.2125 - val_loss: 0.4237 - val_accuracy: 0.1270\n",
            "Epoch 4/15\n",
            "5/5 [==============================] - 60s 12s/step - loss: 0.3971 - accuracy: 0.2464 - val_loss: 0.3799 - val_accuracy: 0.2857\n",
            "Epoch 5/15\n",
            "5/5 [==============================] - 60s 11s/step - loss: 0.3614 - accuracy: 0.2554 - val_loss: 0.3767 - val_accuracy: 0.2381\n",
            "Epoch 6/15\n",
            "5/5 [==============================] - 64s 13s/step - loss: 0.3467 - accuracy: 0.2607 - val_loss: 0.3717 - val_accuracy: 0.2540\n",
            "Epoch 7/15\n",
            "5/5 [==============================] - 75s 15s/step - loss: 0.3301 - accuracy: 0.3839 - val_loss: 0.3791 - val_accuracy: 0.2540\n",
            "Epoch 8/15\n",
            "5/5 [==============================] - 62s 12s/step - loss: 0.3150 - accuracy: 0.4107 - val_loss: 0.3782 - val_accuracy: 0.2063\n",
            "Epoch 9/15\n",
            "5/5 [==============================] - 90s 17s/step - loss: 0.2965 - accuracy: 0.4893 - val_loss: 0.3860 - val_accuracy: 0.2698\n",
            "Epoch 10/15\n",
            "5/5 [==============================] - 65s 13s/step - loss: 0.2825 - accuracy: 0.5036 - val_loss: 0.4090 - val_accuracy: 0.2698\n",
            "Epoch 11/15\n",
            "5/5 [==============================] - 81s 16s/step - loss: 0.2686 - accuracy: 0.5696 - val_loss: 0.3964 - val_accuracy: 0.2381\n",
            "Epoch 12/15\n",
            "5/5 [==============================] - 74s 14s/step - loss: 0.2388 - accuracy: 0.6161 - val_loss: 0.3905 - val_accuracy: 0.1746\n",
            "Epoch 13/15\n",
            "5/5 [==============================] - 90s 19s/step - loss: 0.2183 - accuracy: 0.7071 - val_loss: 0.4110 - val_accuracy: 0.2540\n",
            "Epoch 14/15\n",
            "5/5 [==============================] - 94s 18s/step - loss: 0.1996 - accuracy: 0.7161 - val_loss: 0.3926 - val_accuracy: 0.3016\n",
            "Epoch 15/15\n",
            "5/5 [==============================] - 63s 12s/step - loss: 0.1791 - accuracy: 0.7929 - val_loss: 0.4214 - val_accuracy: 0.2540\n"
          ]
        },
        {
          "output_type": "execute_result",
          "data": {
            "text/plain": [
              "<keras.src.callbacks.History at 0x7ec7043e4880>"
            ]
          },
          "metadata": {},
          "execution_count": 49
        }
      ]
    },
    {
      "cell_type": "code",
      "source": [
        "# running architecture 1\n",
        "batch_size = 128\n",
        "epochs = 30\n",
        "model1.compile(loss=\"binary_crossentropy\", optimizer=\"adam\", metrics=[\"accuracy\"])\n",
        "model1.fit(comb_x_train, comb_y_train, batch_size=batch_size, epochs=epochs, validation_split=0.1)"
      ],
      "metadata": {
        "colab": {
          "base_uri": "https://localhost:8080/",
          "height": 373
        },
        "id": "GONUvBRnJ_c6",
        "outputId": "5ad14c2b-33d8-48a3-c464-87d6c4e160b1"
      },
      "execution_count": null,
      "outputs": [
        {
          "output_type": "stream",
          "name": "stdout",
          "text": [
            "Epoch 1/30\n"
          ]
        },
        {
          "output_type": "error",
          "ename": "KeyboardInterrupt",
          "evalue": "ignored",
          "traceback": [
            "\u001b[0;31m---------------------------------------------------------------------------\u001b[0m",
            "\u001b[0;31mKeyboardInterrupt\u001b[0m                         Traceback (most recent call last)",
            "\u001b[0;32m<ipython-input-50-ef7f83f9d0b1>\u001b[0m in \u001b[0;36m<cell line: 5>\u001b[0;34m()\u001b[0m\n\u001b[1;32m      3\u001b[0m \u001b[0mepochs\u001b[0m \u001b[0;34m=\u001b[0m \u001b[0;36m30\u001b[0m\u001b[0;34m\u001b[0m\u001b[0;34m\u001b[0m\u001b[0m\n\u001b[1;32m      4\u001b[0m \u001b[0mmodel1\u001b[0m\u001b[0;34m.\u001b[0m\u001b[0mcompile\u001b[0m\u001b[0;34m(\u001b[0m\u001b[0mloss\u001b[0m\u001b[0;34m=\u001b[0m\u001b[0;34m\"binary_crossentropy\"\u001b[0m\u001b[0;34m,\u001b[0m \u001b[0moptimizer\u001b[0m\u001b[0;34m=\u001b[0m\u001b[0;34m\"adam\"\u001b[0m\u001b[0;34m,\u001b[0m \u001b[0mmetrics\u001b[0m\u001b[0;34m=\u001b[0m\u001b[0;34m[\u001b[0m\u001b[0;34m\"accuracy\"\u001b[0m\u001b[0;34m]\u001b[0m\u001b[0;34m)\u001b[0m\u001b[0;34m\u001b[0m\u001b[0;34m\u001b[0m\u001b[0m\n\u001b[0;32m----> 5\u001b[0;31m \u001b[0mmodel1\u001b[0m\u001b[0;34m.\u001b[0m\u001b[0mfit\u001b[0m\u001b[0;34m(\u001b[0m\u001b[0mcomb_x_train\u001b[0m\u001b[0;34m,\u001b[0m \u001b[0mcomb_y_train\u001b[0m\u001b[0;34m,\u001b[0m \u001b[0mbatch_size\u001b[0m\u001b[0;34m=\u001b[0m\u001b[0mbatch_size\u001b[0m\u001b[0;34m,\u001b[0m \u001b[0mepochs\u001b[0m\u001b[0;34m=\u001b[0m\u001b[0mepochs\u001b[0m\u001b[0;34m,\u001b[0m \u001b[0mvalidation_split\u001b[0m\u001b[0;34m=\u001b[0m\u001b[0;36m0.1\u001b[0m\u001b[0;34m)\u001b[0m\u001b[0;34m\u001b[0m\u001b[0;34m\u001b[0m\u001b[0m\n\u001b[0m",
            "\u001b[0;32m/usr/local/lib/python3.10/dist-packages/keras/src/utils/traceback_utils.py\u001b[0m in \u001b[0;36merror_handler\u001b[0;34m(*args, **kwargs)\u001b[0m\n\u001b[1;32m     63\u001b[0m         \u001b[0mfiltered_tb\u001b[0m \u001b[0;34m=\u001b[0m \u001b[0;32mNone\u001b[0m\u001b[0;34m\u001b[0m\u001b[0;34m\u001b[0m\u001b[0m\n\u001b[1;32m     64\u001b[0m         \u001b[0;32mtry\u001b[0m\u001b[0;34m:\u001b[0m\u001b[0;34m\u001b[0m\u001b[0;34m\u001b[0m\u001b[0m\n\u001b[0;32m---> 65\u001b[0;31m             \u001b[0;32mreturn\u001b[0m \u001b[0mfn\u001b[0m\u001b[0;34m(\u001b[0m\u001b[0;34m*\u001b[0m\u001b[0margs\u001b[0m\u001b[0;34m,\u001b[0m \u001b[0;34m**\u001b[0m\u001b[0mkwargs\u001b[0m\u001b[0;34m)\u001b[0m\u001b[0;34m\u001b[0m\u001b[0;34m\u001b[0m\u001b[0m\n\u001b[0m\u001b[1;32m     66\u001b[0m         \u001b[0;32mexcept\u001b[0m \u001b[0mException\u001b[0m \u001b[0;32mas\u001b[0m \u001b[0me\u001b[0m\u001b[0;34m:\u001b[0m\u001b[0;34m\u001b[0m\u001b[0;34m\u001b[0m\u001b[0m\n\u001b[1;32m     67\u001b[0m             \u001b[0mfiltered_tb\u001b[0m \u001b[0;34m=\u001b[0m \u001b[0m_process_traceback_frames\u001b[0m\u001b[0;34m(\u001b[0m\u001b[0me\u001b[0m\u001b[0;34m.\u001b[0m\u001b[0m__traceback__\u001b[0m\u001b[0;34m)\u001b[0m\u001b[0;34m\u001b[0m\u001b[0;34m\u001b[0m\u001b[0m\n",
            "\u001b[0;32m/usr/local/lib/python3.10/dist-packages/keras/src/engine/training.py\u001b[0m in \u001b[0;36mfit\u001b[0;34m(self, x, y, batch_size, epochs, verbose, callbacks, validation_split, validation_data, shuffle, class_weight, sample_weight, initial_epoch, steps_per_epoch, validation_steps, validation_batch_size, validation_freq, max_queue_size, workers, use_multiprocessing)\u001b[0m\n\u001b[1;32m   1781\u001b[0m                         ):\n\u001b[1;32m   1782\u001b[0m                             \u001b[0mcallbacks\u001b[0m\u001b[0;34m.\u001b[0m\u001b[0mon_train_batch_begin\u001b[0m\u001b[0;34m(\u001b[0m\u001b[0mstep\u001b[0m\u001b[0;34m)\u001b[0m\u001b[0;34m\u001b[0m\u001b[0;34m\u001b[0m\u001b[0m\n\u001b[0;32m-> 1783\u001b[0;31m                             \u001b[0mtmp_logs\u001b[0m \u001b[0;34m=\u001b[0m \u001b[0mself\u001b[0m\u001b[0;34m.\u001b[0m\u001b[0mtrain_function\u001b[0m\u001b[0;34m(\u001b[0m\u001b[0miterator\u001b[0m\u001b[0;34m)\u001b[0m\u001b[0;34m\u001b[0m\u001b[0;34m\u001b[0m\u001b[0m\n\u001b[0m\u001b[1;32m   1784\u001b[0m                             \u001b[0;32mif\u001b[0m \u001b[0mdata_handler\u001b[0m\u001b[0;34m.\u001b[0m\u001b[0mshould_sync\u001b[0m\u001b[0;34m:\u001b[0m\u001b[0;34m\u001b[0m\u001b[0;34m\u001b[0m\u001b[0m\n\u001b[1;32m   1785\u001b[0m                                 \u001b[0mcontext\u001b[0m\u001b[0;34m.\u001b[0m\u001b[0masync_wait\u001b[0m\u001b[0;34m(\u001b[0m\u001b[0;34m)\u001b[0m\u001b[0;34m\u001b[0m\u001b[0;34m\u001b[0m\u001b[0m\n",
            "\u001b[0;32m/usr/local/lib/python3.10/dist-packages/tensorflow/python/util/traceback_utils.py\u001b[0m in \u001b[0;36merror_handler\u001b[0;34m(*args, **kwargs)\u001b[0m\n\u001b[1;32m    148\u001b[0m     \u001b[0mfiltered_tb\u001b[0m \u001b[0;34m=\u001b[0m \u001b[0;32mNone\u001b[0m\u001b[0;34m\u001b[0m\u001b[0;34m\u001b[0m\u001b[0m\n\u001b[1;32m    149\u001b[0m     \u001b[0;32mtry\u001b[0m\u001b[0;34m:\u001b[0m\u001b[0;34m\u001b[0m\u001b[0;34m\u001b[0m\u001b[0m\n\u001b[0;32m--> 150\u001b[0;31m       \u001b[0;32mreturn\u001b[0m \u001b[0mfn\u001b[0m\u001b[0;34m(\u001b[0m\u001b[0;34m*\u001b[0m\u001b[0margs\u001b[0m\u001b[0;34m,\u001b[0m \u001b[0;34m**\u001b[0m\u001b[0mkwargs\u001b[0m\u001b[0;34m)\u001b[0m\u001b[0;34m\u001b[0m\u001b[0;34m\u001b[0m\u001b[0m\n\u001b[0m\u001b[1;32m    151\u001b[0m     \u001b[0;32mexcept\u001b[0m \u001b[0mException\u001b[0m \u001b[0;32mas\u001b[0m \u001b[0me\u001b[0m\u001b[0;34m:\u001b[0m\u001b[0;34m\u001b[0m\u001b[0;34m\u001b[0m\u001b[0m\n\u001b[1;32m    152\u001b[0m       \u001b[0mfiltered_tb\u001b[0m \u001b[0;34m=\u001b[0m \u001b[0m_process_traceback_frames\u001b[0m\u001b[0;34m(\u001b[0m\u001b[0me\u001b[0m\u001b[0;34m.\u001b[0m\u001b[0m__traceback__\u001b[0m\u001b[0;34m)\u001b[0m\u001b[0;34m\u001b[0m\u001b[0;34m\u001b[0m\u001b[0m\n",
            "\u001b[0;32m/usr/local/lib/python3.10/dist-packages/tensorflow/python/eager/polymorphic_function/polymorphic_function.py\u001b[0m in \u001b[0;36m__call__\u001b[0;34m(self, *args, **kwds)\u001b[0m\n\u001b[1;32m    829\u001b[0m \u001b[0;34m\u001b[0m\u001b[0m\n\u001b[1;32m    830\u001b[0m       \u001b[0;32mwith\u001b[0m \u001b[0mOptionalXlaContext\u001b[0m\u001b[0;34m(\u001b[0m\u001b[0mself\u001b[0m\u001b[0;34m.\u001b[0m\u001b[0m_jit_compile\u001b[0m\u001b[0;34m)\u001b[0m\u001b[0;34m:\u001b[0m\u001b[0;34m\u001b[0m\u001b[0;34m\u001b[0m\u001b[0m\n\u001b[0;32m--> 831\u001b[0;31m         \u001b[0mresult\u001b[0m \u001b[0;34m=\u001b[0m \u001b[0mself\u001b[0m\u001b[0;34m.\u001b[0m\u001b[0m_call\u001b[0m\u001b[0;34m(\u001b[0m\u001b[0;34m*\u001b[0m\u001b[0margs\u001b[0m\u001b[0;34m,\u001b[0m \u001b[0;34m**\u001b[0m\u001b[0mkwds\u001b[0m\u001b[0;34m)\u001b[0m\u001b[0;34m\u001b[0m\u001b[0;34m\u001b[0m\u001b[0m\n\u001b[0m\u001b[1;32m    832\u001b[0m \u001b[0;34m\u001b[0m\u001b[0m\n\u001b[1;32m    833\u001b[0m       \u001b[0mnew_tracing_count\u001b[0m \u001b[0;34m=\u001b[0m \u001b[0mself\u001b[0m\u001b[0;34m.\u001b[0m\u001b[0mexperimental_get_tracing_count\u001b[0m\u001b[0;34m(\u001b[0m\u001b[0;34m)\u001b[0m\u001b[0;34m\u001b[0m\u001b[0;34m\u001b[0m\u001b[0m\n",
            "\u001b[0;32m/usr/local/lib/python3.10/dist-packages/tensorflow/python/eager/polymorphic_function/polymorphic_function.py\u001b[0m in \u001b[0;36m_call\u001b[0;34m(self, *args, **kwds)\u001b[0m\n\u001b[1;32m    902\u001b[0m         \u001b[0;31m# Lifting succeeded, so variables are initialized and we can run the\u001b[0m\u001b[0;34m\u001b[0m\u001b[0;34m\u001b[0m\u001b[0m\n\u001b[1;32m    903\u001b[0m         \u001b[0;31m# no_variable_creation function.\u001b[0m\u001b[0;34m\u001b[0m\u001b[0;34m\u001b[0m\u001b[0m\n\u001b[0;32m--> 904\u001b[0;31m         return tracing_compilation.call_function(\n\u001b[0m\u001b[1;32m    905\u001b[0m             \u001b[0margs\u001b[0m\u001b[0;34m,\u001b[0m \u001b[0mkwds\u001b[0m\u001b[0;34m,\u001b[0m \u001b[0mself\u001b[0m\u001b[0;34m.\u001b[0m\u001b[0m_no_variable_creation_config\u001b[0m\u001b[0;34m\u001b[0m\u001b[0;34m\u001b[0m\u001b[0m\n\u001b[1;32m    906\u001b[0m         )\n",
            "\u001b[0;32m/usr/local/lib/python3.10/dist-packages/tensorflow/python/eager/polymorphic_function/tracing_compilation.py\u001b[0m in \u001b[0;36mcall_function\u001b[0;34m(args, kwargs, tracing_options)\u001b[0m\n\u001b[1;32m    137\u001b[0m   \u001b[0mbound_args\u001b[0m \u001b[0;34m=\u001b[0m \u001b[0mfunction\u001b[0m\u001b[0;34m.\u001b[0m\u001b[0mfunction_type\u001b[0m\u001b[0;34m.\u001b[0m\u001b[0mbind\u001b[0m\u001b[0;34m(\u001b[0m\u001b[0;34m*\u001b[0m\u001b[0margs\u001b[0m\u001b[0;34m,\u001b[0m \u001b[0;34m**\u001b[0m\u001b[0mkwargs\u001b[0m\u001b[0;34m)\u001b[0m\u001b[0;34m\u001b[0m\u001b[0;34m\u001b[0m\u001b[0m\n\u001b[1;32m    138\u001b[0m   \u001b[0mflat_inputs\u001b[0m \u001b[0;34m=\u001b[0m \u001b[0mfunction\u001b[0m\u001b[0;34m.\u001b[0m\u001b[0mfunction_type\u001b[0m\u001b[0;34m.\u001b[0m\u001b[0munpack_inputs\u001b[0m\u001b[0;34m(\u001b[0m\u001b[0mbound_args\u001b[0m\u001b[0;34m)\u001b[0m\u001b[0;34m\u001b[0m\u001b[0;34m\u001b[0m\u001b[0m\n\u001b[0;32m--> 139\u001b[0;31m   return function._call_flat(  # pylint: disable=protected-access\n\u001b[0m\u001b[1;32m    140\u001b[0m       \u001b[0mflat_inputs\u001b[0m\u001b[0;34m,\u001b[0m \u001b[0mcaptured_inputs\u001b[0m\u001b[0;34m=\u001b[0m\u001b[0mfunction\u001b[0m\u001b[0;34m.\u001b[0m\u001b[0mcaptured_inputs\u001b[0m\u001b[0;34m\u001b[0m\u001b[0;34m\u001b[0m\u001b[0m\n\u001b[1;32m    141\u001b[0m   )\n",
            "\u001b[0;32m/usr/local/lib/python3.10/dist-packages/tensorflow/python/eager/polymorphic_function/concrete_function.py\u001b[0m in \u001b[0;36m_call_flat\u001b[0;34m(self, tensor_inputs, captured_inputs)\u001b[0m\n\u001b[1;32m   1262\u001b[0m         and executing_eagerly):\n\u001b[1;32m   1263\u001b[0m       \u001b[0;31m# No tape is watching; skip to running the function.\u001b[0m\u001b[0;34m\u001b[0m\u001b[0;34m\u001b[0m\u001b[0m\n\u001b[0;32m-> 1264\u001b[0;31m       \u001b[0;32mreturn\u001b[0m \u001b[0mself\u001b[0m\u001b[0;34m.\u001b[0m\u001b[0m_inference_function\u001b[0m\u001b[0;34m.\u001b[0m\u001b[0mflat_call\u001b[0m\u001b[0;34m(\u001b[0m\u001b[0margs\u001b[0m\u001b[0;34m)\u001b[0m\u001b[0;34m\u001b[0m\u001b[0;34m\u001b[0m\u001b[0m\n\u001b[0m\u001b[1;32m   1265\u001b[0m     forward_backward = self._select_forward_and_backward_functions(\n\u001b[1;32m   1266\u001b[0m         \u001b[0margs\u001b[0m\u001b[0;34m,\u001b[0m\u001b[0;34m\u001b[0m\u001b[0;34m\u001b[0m\u001b[0m\n",
            "\u001b[0;32m/usr/local/lib/python3.10/dist-packages/tensorflow/python/eager/polymorphic_function/atomic_function.py\u001b[0m in \u001b[0;36mflat_call\u001b[0;34m(self, args)\u001b[0m\n\u001b[1;32m    215\u001b[0m   \u001b[0;32mdef\u001b[0m \u001b[0mflat_call\u001b[0m\u001b[0;34m(\u001b[0m\u001b[0mself\u001b[0m\u001b[0;34m,\u001b[0m \u001b[0margs\u001b[0m\u001b[0;34m:\u001b[0m \u001b[0mSequence\u001b[0m\u001b[0;34m[\u001b[0m\u001b[0mcore\u001b[0m\u001b[0;34m.\u001b[0m\u001b[0mTensor\u001b[0m\u001b[0;34m]\u001b[0m\u001b[0;34m)\u001b[0m \u001b[0;34m->\u001b[0m \u001b[0mAny\u001b[0m\u001b[0;34m:\u001b[0m\u001b[0;34m\u001b[0m\u001b[0;34m\u001b[0m\u001b[0m\n\u001b[1;32m    216\u001b[0m     \u001b[0;34m\"\"\"Calls with tensor inputs and returns the structured output.\"\"\"\u001b[0m\u001b[0;34m\u001b[0m\u001b[0;34m\u001b[0m\u001b[0m\n\u001b[0;32m--> 217\u001b[0;31m     \u001b[0mflat_outputs\u001b[0m \u001b[0;34m=\u001b[0m \u001b[0mself\u001b[0m\u001b[0;34m(\u001b[0m\u001b[0;34m*\u001b[0m\u001b[0margs\u001b[0m\u001b[0;34m)\u001b[0m\u001b[0;34m\u001b[0m\u001b[0;34m\u001b[0m\u001b[0m\n\u001b[0m\u001b[1;32m    218\u001b[0m     \u001b[0;32mreturn\u001b[0m \u001b[0mself\u001b[0m\u001b[0;34m.\u001b[0m\u001b[0mfunction_type\u001b[0m\u001b[0;34m.\u001b[0m\u001b[0mpack_output\u001b[0m\u001b[0;34m(\u001b[0m\u001b[0mflat_outputs\u001b[0m\u001b[0;34m)\u001b[0m\u001b[0;34m\u001b[0m\u001b[0;34m\u001b[0m\u001b[0m\n\u001b[1;32m    219\u001b[0m \u001b[0;34m\u001b[0m\u001b[0m\n",
            "\u001b[0;32m/usr/local/lib/python3.10/dist-packages/tensorflow/python/eager/polymorphic_function/atomic_function.py\u001b[0m in \u001b[0;36m__call__\u001b[0;34m(self, *args)\u001b[0m\n\u001b[1;32m    250\u001b[0m         \u001b[0;32mwith\u001b[0m \u001b[0mrecord\u001b[0m\u001b[0;34m.\u001b[0m\u001b[0mstop_recording\u001b[0m\u001b[0;34m(\u001b[0m\u001b[0;34m)\u001b[0m\u001b[0;34m:\u001b[0m\u001b[0;34m\u001b[0m\u001b[0;34m\u001b[0m\u001b[0m\n\u001b[1;32m    251\u001b[0m           \u001b[0;32mif\u001b[0m \u001b[0mself\u001b[0m\u001b[0;34m.\u001b[0m\u001b[0m_bound_context\u001b[0m\u001b[0;34m.\u001b[0m\u001b[0mexecuting_eagerly\u001b[0m\u001b[0;34m(\u001b[0m\u001b[0;34m)\u001b[0m\u001b[0;34m:\u001b[0m\u001b[0;34m\u001b[0m\u001b[0;34m\u001b[0m\u001b[0m\n\u001b[0;32m--> 252\u001b[0;31m             outputs = self._bound_context.call_function(\n\u001b[0m\u001b[1;32m    253\u001b[0m                 \u001b[0mself\u001b[0m\u001b[0;34m.\u001b[0m\u001b[0mname\u001b[0m\u001b[0;34m,\u001b[0m\u001b[0;34m\u001b[0m\u001b[0;34m\u001b[0m\u001b[0m\n\u001b[1;32m    254\u001b[0m                 \u001b[0mlist\u001b[0m\u001b[0;34m(\u001b[0m\u001b[0margs\u001b[0m\u001b[0;34m)\u001b[0m\u001b[0;34m,\u001b[0m\u001b[0;34m\u001b[0m\u001b[0;34m\u001b[0m\u001b[0m\n",
            "\u001b[0;32m/usr/local/lib/python3.10/dist-packages/tensorflow/python/eager/context.py\u001b[0m in \u001b[0;36mcall_function\u001b[0;34m(self, name, tensor_inputs, num_outputs)\u001b[0m\n\u001b[1;32m   1477\u001b[0m     \u001b[0mcancellation_context\u001b[0m \u001b[0;34m=\u001b[0m \u001b[0mcancellation\u001b[0m\u001b[0;34m.\u001b[0m\u001b[0mcontext\u001b[0m\u001b[0;34m(\u001b[0m\u001b[0;34m)\u001b[0m\u001b[0;34m\u001b[0m\u001b[0;34m\u001b[0m\u001b[0m\n\u001b[1;32m   1478\u001b[0m     \u001b[0;32mif\u001b[0m \u001b[0mcancellation_context\u001b[0m \u001b[0;32mis\u001b[0m \u001b[0;32mNone\u001b[0m\u001b[0;34m:\u001b[0m\u001b[0;34m\u001b[0m\u001b[0;34m\u001b[0m\u001b[0m\n\u001b[0;32m-> 1479\u001b[0;31m       outputs = execute.execute(\n\u001b[0m\u001b[1;32m   1480\u001b[0m           \u001b[0mname\u001b[0m\u001b[0;34m.\u001b[0m\u001b[0mdecode\u001b[0m\u001b[0;34m(\u001b[0m\u001b[0;34m\"utf-8\"\u001b[0m\u001b[0;34m)\u001b[0m\u001b[0;34m,\u001b[0m\u001b[0;34m\u001b[0m\u001b[0;34m\u001b[0m\u001b[0m\n\u001b[1;32m   1481\u001b[0m           \u001b[0mnum_outputs\u001b[0m\u001b[0;34m=\u001b[0m\u001b[0mnum_outputs\u001b[0m\u001b[0;34m,\u001b[0m\u001b[0;34m\u001b[0m\u001b[0;34m\u001b[0m\u001b[0m\n",
            "\u001b[0;32m/usr/local/lib/python3.10/dist-packages/tensorflow/python/eager/execute.py\u001b[0m in \u001b[0;36mquick_execute\u001b[0;34m(op_name, num_outputs, inputs, attrs, ctx, name)\u001b[0m\n\u001b[1;32m     58\u001b[0m         \u001b[0;32mfor\u001b[0m \u001b[0mt\u001b[0m \u001b[0;32min\u001b[0m \u001b[0minputs\u001b[0m\u001b[0;34m\u001b[0m\u001b[0;34m\u001b[0m\u001b[0m\n\u001b[1;32m     59\u001b[0m     ]\n\u001b[0;32m---> 60\u001b[0;31m     tensors = pywrap_tfe.TFE_Py_Execute(ctx._handle, device_name, op_name,\n\u001b[0m\u001b[1;32m     61\u001b[0m                                         inputs, attrs, num_outputs)\n\u001b[1;32m     62\u001b[0m   \u001b[0;32mexcept\u001b[0m \u001b[0mcore\u001b[0m\u001b[0;34m.\u001b[0m\u001b[0m_NotOkStatusException\u001b[0m \u001b[0;32mas\u001b[0m \u001b[0me\u001b[0m\u001b[0;34m:\u001b[0m\u001b[0;34m\u001b[0m\u001b[0;34m\u001b[0m\u001b[0m\n",
            "\u001b[0;31mKeyboardInterrupt\u001b[0m: "
          ]
        }
      ]
    },
    {
      "cell_type": "code",
      "source": [
        "# running architecture 1\n",
        "batch_size = 128\n",
        "epochs = 50\n",
        "model1.compile(loss=\"binary_crossentropy\", optimizer=\"adam\", metrics=[\"accuracy\"])\n",
        "model1.fit(comb_x_train, comb_y_train, batch_size=batch_size, epochs=epochs, validation_split=0.1)"
      ],
      "metadata": {
        "id": "rTsUtmhEKAx-"
      },
      "execution_count": null,
      "outputs": []
    },
    {
      "cell_type": "code",
      "source": [
        "# running architecture 2\n",
        "batch_size = 128\n",
        "epochs = 15\n",
        "model2.compile(loss=\"binary_crossentropy\", optimizer=\"adam\", metrics=[\"accuracy\"])\n",
        "model2.fit(comb_x_train, comb_y_train, batch_size=batch_size, epochs=epochs, validation_split=0.1)"
      ],
      "metadata": {
        "id": "ZR74kC-OKB-O"
      },
      "execution_count": null,
      "outputs": []
    },
    {
      "cell_type": "code",
      "source": [
        "# running architecture 2\n",
        "batch_size = 128\n",
        "epochs = 30\n",
        "model2.compile(loss=\"binary_crossentropy\", optimizer=\"adam\", metrics=[\"accuracy\"])\n",
        "model2.fit(comb_x_train, comb_y_train, batch_size=batch_size, epochs=epochs, validation_split=0.1)"
      ],
      "metadata": {
        "id": "Gc_vclLVKMIu"
      },
      "execution_count": null,
      "outputs": []
    },
    {
      "cell_type": "code",
      "source": [
        "# running architecture 2\n",
        "batch_size = 128\n",
        "epochs = 50\n",
        "model2.compile(loss=\"binary_crossentropy\", optimizer=\"adam\", metrics=[\"accuracy\"])\n",
        "model2.fit(comb_x_train, comb_y_train, batch_size=batch_size, epochs=epochs, validation_split=0.1)"
      ],
      "metadata": {
        "id": "SEzFuv4kKNVD"
      },
      "execution_count": null,
      "outputs": []
    },
    {
      "cell_type": "code",
      "source": [
        "# running architecture 3\n",
        "batch_size = 128\n",
        "epochs = 15\n",
        "model3.compile(loss=\"binary_crossentropy\", optimizer=\"adam\", metrics=[\"accuracy\"])\n",
        "model3.fit(comb_x_train, comb_y_train, batch_size=128, epochs=15, validation_split=0.1)"
      ],
      "metadata": {
        "colab": {
          "base_uri": "https://localhost:8080/"
        },
        "id": "h4mXyx3eKOc1",
        "outputId": "7c8d8e9a-8819-41ed-e215-380333fa53fe"
      },
      "execution_count": null,
      "outputs": [
        {
          "output_type": "stream",
          "name": "stdout",
          "text": [
            "Epoch 1/15\n",
            "5/5 [==============================] - 523s 106s/step - loss: 0.8171 - accuracy: 0.1696 - val_loss: 0.4495 - val_accuracy: 0.2063\n",
            "Epoch 2/15\n",
            "5/5 [==============================] - 523s 106s/step - loss: 0.5027 - accuracy: 0.2000 - val_loss: 0.3994 - val_accuracy: 0.2222\n",
            "Epoch 3/15\n",
            "5/5 [==============================] - 520s 105s/step - loss: 0.4150 - accuracy: 0.2554 - val_loss: 0.3648 - val_accuracy: 0.2857\n",
            "Epoch 4/15\n",
            "1/5 [=====>........................] - ETA: 6:45 - loss: 0.4058 - accuracy: 0.2969"
          ]
        }
      ]
    },
    {
      "cell_type": "code",
      "source": [
        "batch_size = 128\n",
        "epochs = 15\n",
        "model4.compile(loss=\"binary_crossentropy\", optimizer=\"adam\", metrics=[\"accuracy\"])\n",
        "model4.fit(comb_x_train, comb_y_train, batch_size=batch_size, epochs=epochs, validation_split=0.1)"
      ],
      "metadata": {
        "id": "jEnU3hdvKVV7"
      },
      "execution_count": null,
      "outputs": []
    },
    {
      "cell_type": "code",
      "source": [
        "batch_size=128\n",
        "epochs=15\n",
        "model5.compile(loss=\"binary_crossentropy\", optimizer=\"adam\", metrics=['accuracy'])\n",
        "model5.fit(comb_x_train, comb_y_train, batch_size=batch_size, epochs=epochs, validation_split=0.1)"
      ],
      "metadata": {
        "colab": {
          "base_uri": "https://localhost:8080/",
          "height": 546
        },
        "id": "ud4SiN1GVDZ1",
        "outputId": "d0d05e02-115f-4080-aa8c-5c6d919f5e3f"
      },
      "execution_count": null,
      "outputs": [
        {
          "output_type": "stream",
          "name": "stdout",
          "text": [
            "Epoch 1/15\n",
            "5/5 [==============================] - 56s 10s/step - loss: 0.9110 - accuracy: 0.1411 - val_loss: 0.7425 - val_accuracy: 0.2063\n",
            "Epoch 2/15\n",
            "5/5 [==============================] - 45s 9s/step - loss: 0.6455 - accuracy: 0.1643 - val_loss: 0.7479 - val_accuracy: 0.2063\n",
            "Epoch 3/15\n",
            "5/5 [==============================] - 45s 9s/step - loss: 0.6235 - accuracy: 0.1875 - val_loss: 0.7602 - val_accuracy: 0.0159\n",
            "Epoch 4/15\n",
            "5/5 [==============================] - 46s 9s/step - loss: 0.6113 - accuracy: 0.1839 - val_loss: 0.8621 - val_accuracy: 0.0159\n",
            "Epoch 5/15\n",
            "5/5 [==============================] - 45s 9s/step - loss: 0.6013 - accuracy: 0.2018 - val_loss: 0.8937 - val_accuracy: 0.0159\n",
            "Epoch 6/15\n"
          ]
        },
        {
          "output_type": "error",
          "ename": "KeyboardInterrupt",
          "evalue": "ignored",
          "traceback": [
            "\u001b[0;31m---------------------------------------------------------------------------\u001b[0m",
            "\u001b[0;31mKeyboardInterrupt\u001b[0m                         Traceback (most recent call last)",
            "\u001b[0;32m<ipython-input-76-3d7e7a074254>\u001b[0m in \u001b[0;36m<cell line: 4>\u001b[0;34m()\u001b[0m\n\u001b[1;32m      2\u001b[0m \u001b[0mepochs\u001b[0m\u001b[0;34m=\u001b[0m\u001b[0;36m15\u001b[0m\u001b[0;34m\u001b[0m\u001b[0;34m\u001b[0m\u001b[0m\n\u001b[1;32m      3\u001b[0m \u001b[0mmodel5\u001b[0m\u001b[0;34m.\u001b[0m\u001b[0mcompile\u001b[0m\u001b[0;34m(\u001b[0m\u001b[0mloss\u001b[0m\u001b[0;34m=\u001b[0m\u001b[0;34m\"binary_crossentropy\"\u001b[0m\u001b[0;34m,\u001b[0m \u001b[0moptimizer\u001b[0m\u001b[0;34m=\u001b[0m\u001b[0;34m\"adam\"\u001b[0m\u001b[0;34m,\u001b[0m \u001b[0mmetrics\u001b[0m\u001b[0;34m=\u001b[0m\u001b[0;34m[\u001b[0m\u001b[0;34m'accuracy'\u001b[0m\u001b[0;34m]\u001b[0m\u001b[0;34m)\u001b[0m\u001b[0;34m\u001b[0m\u001b[0;34m\u001b[0m\u001b[0m\n\u001b[0;32m----> 4\u001b[0;31m \u001b[0mmodel5\u001b[0m\u001b[0;34m.\u001b[0m\u001b[0mfit\u001b[0m\u001b[0;34m(\u001b[0m\u001b[0mcomb_x_train\u001b[0m\u001b[0;34m,\u001b[0m \u001b[0mcomb_y_train\u001b[0m\u001b[0;34m,\u001b[0m \u001b[0mbatch_size\u001b[0m\u001b[0;34m=\u001b[0m\u001b[0mbatch_size\u001b[0m\u001b[0;34m,\u001b[0m \u001b[0mepochs\u001b[0m\u001b[0;34m=\u001b[0m\u001b[0mepochs\u001b[0m\u001b[0;34m,\u001b[0m \u001b[0mvalidation_split\u001b[0m\u001b[0;34m=\u001b[0m\u001b[0;36m0.1\u001b[0m\u001b[0;34m)\u001b[0m\u001b[0;34m\u001b[0m\u001b[0;34m\u001b[0m\u001b[0m\n\u001b[0m",
            "\u001b[0;32m/usr/local/lib/python3.10/dist-packages/keras/src/utils/traceback_utils.py\u001b[0m in \u001b[0;36merror_handler\u001b[0;34m(*args, **kwargs)\u001b[0m\n\u001b[1;32m     63\u001b[0m         \u001b[0mfiltered_tb\u001b[0m \u001b[0;34m=\u001b[0m \u001b[0;32mNone\u001b[0m\u001b[0;34m\u001b[0m\u001b[0;34m\u001b[0m\u001b[0m\n\u001b[1;32m     64\u001b[0m         \u001b[0;32mtry\u001b[0m\u001b[0;34m:\u001b[0m\u001b[0;34m\u001b[0m\u001b[0;34m\u001b[0m\u001b[0m\n\u001b[0;32m---> 65\u001b[0;31m             \u001b[0;32mreturn\u001b[0m \u001b[0mfn\u001b[0m\u001b[0;34m(\u001b[0m\u001b[0;34m*\u001b[0m\u001b[0margs\u001b[0m\u001b[0;34m,\u001b[0m \u001b[0;34m**\u001b[0m\u001b[0mkwargs\u001b[0m\u001b[0;34m)\u001b[0m\u001b[0;34m\u001b[0m\u001b[0;34m\u001b[0m\u001b[0m\n\u001b[0m\u001b[1;32m     66\u001b[0m         \u001b[0;32mexcept\u001b[0m \u001b[0mException\u001b[0m \u001b[0;32mas\u001b[0m \u001b[0me\u001b[0m\u001b[0;34m:\u001b[0m\u001b[0;34m\u001b[0m\u001b[0;34m\u001b[0m\u001b[0m\n\u001b[1;32m     67\u001b[0m             \u001b[0mfiltered_tb\u001b[0m \u001b[0;34m=\u001b[0m \u001b[0m_process_traceback_frames\u001b[0m\u001b[0;34m(\u001b[0m\u001b[0me\u001b[0m\u001b[0;34m.\u001b[0m\u001b[0m__traceback__\u001b[0m\u001b[0;34m)\u001b[0m\u001b[0;34m\u001b[0m\u001b[0;34m\u001b[0m\u001b[0m\n",
            "\u001b[0;32m/usr/local/lib/python3.10/dist-packages/keras/src/engine/training.py\u001b[0m in \u001b[0;36mfit\u001b[0;34m(self, x, y, batch_size, epochs, verbose, callbacks, validation_split, validation_data, shuffle, class_weight, sample_weight, initial_epoch, steps_per_epoch, validation_steps, validation_batch_size, validation_freq, max_queue_size, workers, use_multiprocessing)\u001b[0m\n\u001b[1;32m   1781\u001b[0m                         ):\n\u001b[1;32m   1782\u001b[0m                             \u001b[0mcallbacks\u001b[0m\u001b[0;34m.\u001b[0m\u001b[0mon_train_batch_begin\u001b[0m\u001b[0;34m(\u001b[0m\u001b[0mstep\u001b[0m\u001b[0;34m)\u001b[0m\u001b[0;34m\u001b[0m\u001b[0;34m\u001b[0m\u001b[0m\n\u001b[0;32m-> 1783\u001b[0;31m                             \u001b[0mtmp_logs\u001b[0m \u001b[0;34m=\u001b[0m \u001b[0mself\u001b[0m\u001b[0;34m.\u001b[0m\u001b[0mtrain_function\u001b[0m\u001b[0;34m(\u001b[0m\u001b[0miterator\u001b[0m\u001b[0;34m)\u001b[0m\u001b[0;34m\u001b[0m\u001b[0;34m\u001b[0m\u001b[0m\n\u001b[0m\u001b[1;32m   1784\u001b[0m                             \u001b[0;32mif\u001b[0m \u001b[0mdata_handler\u001b[0m\u001b[0;34m.\u001b[0m\u001b[0mshould_sync\u001b[0m\u001b[0;34m:\u001b[0m\u001b[0;34m\u001b[0m\u001b[0;34m\u001b[0m\u001b[0m\n\u001b[1;32m   1785\u001b[0m                                 \u001b[0mcontext\u001b[0m\u001b[0;34m.\u001b[0m\u001b[0masync_wait\u001b[0m\u001b[0;34m(\u001b[0m\u001b[0;34m)\u001b[0m\u001b[0;34m\u001b[0m\u001b[0;34m\u001b[0m\u001b[0m\n",
            "\u001b[0;32m/usr/local/lib/python3.10/dist-packages/tensorflow/python/util/traceback_utils.py\u001b[0m in \u001b[0;36merror_handler\u001b[0;34m(*args, **kwargs)\u001b[0m\n\u001b[1;32m    148\u001b[0m     \u001b[0mfiltered_tb\u001b[0m \u001b[0;34m=\u001b[0m \u001b[0;32mNone\u001b[0m\u001b[0;34m\u001b[0m\u001b[0;34m\u001b[0m\u001b[0m\n\u001b[1;32m    149\u001b[0m     \u001b[0;32mtry\u001b[0m\u001b[0;34m:\u001b[0m\u001b[0;34m\u001b[0m\u001b[0;34m\u001b[0m\u001b[0m\n\u001b[0;32m--> 150\u001b[0;31m       \u001b[0;32mreturn\u001b[0m \u001b[0mfn\u001b[0m\u001b[0;34m(\u001b[0m\u001b[0;34m*\u001b[0m\u001b[0margs\u001b[0m\u001b[0;34m,\u001b[0m \u001b[0;34m**\u001b[0m\u001b[0mkwargs\u001b[0m\u001b[0;34m)\u001b[0m\u001b[0;34m\u001b[0m\u001b[0;34m\u001b[0m\u001b[0m\n\u001b[0m\u001b[1;32m    151\u001b[0m     \u001b[0;32mexcept\u001b[0m \u001b[0mException\u001b[0m \u001b[0;32mas\u001b[0m \u001b[0me\u001b[0m\u001b[0;34m:\u001b[0m\u001b[0;34m\u001b[0m\u001b[0;34m\u001b[0m\u001b[0m\n\u001b[1;32m    152\u001b[0m       \u001b[0mfiltered_tb\u001b[0m \u001b[0;34m=\u001b[0m \u001b[0m_process_traceback_frames\u001b[0m\u001b[0;34m(\u001b[0m\u001b[0me\u001b[0m\u001b[0;34m.\u001b[0m\u001b[0m__traceback__\u001b[0m\u001b[0;34m)\u001b[0m\u001b[0;34m\u001b[0m\u001b[0;34m\u001b[0m\u001b[0m\n",
            "\u001b[0;32m/usr/local/lib/python3.10/dist-packages/tensorflow/python/eager/polymorphic_function/polymorphic_function.py\u001b[0m in \u001b[0;36m__call__\u001b[0;34m(self, *args, **kwds)\u001b[0m\n\u001b[1;32m    829\u001b[0m \u001b[0;34m\u001b[0m\u001b[0m\n\u001b[1;32m    830\u001b[0m       \u001b[0;32mwith\u001b[0m \u001b[0mOptionalXlaContext\u001b[0m\u001b[0;34m(\u001b[0m\u001b[0mself\u001b[0m\u001b[0;34m.\u001b[0m\u001b[0m_jit_compile\u001b[0m\u001b[0;34m)\u001b[0m\u001b[0;34m:\u001b[0m\u001b[0;34m\u001b[0m\u001b[0;34m\u001b[0m\u001b[0m\n\u001b[0;32m--> 831\u001b[0;31m         \u001b[0mresult\u001b[0m \u001b[0;34m=\u001b[0m \u001b[0mself\u001b[0m\u001b[0;34m.\u001b[0m\u001b[0m_call\u001b[0m\u001b[0;34m(\u001b[0m\u001b[0;34m*\u001b[0m\u001b[0margs\u001b[0m\u001b[0;34m,\u001b[0m \u001b[0;34m**\u001b[0m\u001b[0mkwds\u001b[0m\u001b[0;34m)\u001b[0m\u001b[0;34m\u001b[0m\u001b[0;34m\u001b[0m\u001b[0m\n\u001b[0m\u001b[1;32m    832\u001b[0m \u001b[0;34m\u001b[0m\u001b[0m\n\u001b[1;32m    833\u001b[0m       \u001b[0mnew_tracing_count\u001b[0m \u001b[0;34m=\u001b[0m \u001b[0mself\u001b[0m\u001b[0;34m.\u001b[0m\u001b[0mexperimental_get_tracing_count\u001b[0m\u001b[0;34m(\u001b[0m\u001b[0;34m)\u001b[0m\u001b[0;34m\u001b[0m\u001b[0;34m\u001b[0m\u001b[0m\n",
            "\u001b[0;32m/usr/local/lib/python3.10/dist-packages/tensorflow/python/eager/polymorphic_function/polymorphic_function.py\u001b[0m in \u001b[0;36m_call\u001b[0;34m(self, *args, **kwds)\u001b[0m\n\u001b[1;32m    865\u001b[0m       \u001b[0;31m# In this case we have created variables on the first call, so we run the\u001b[0m\u001b[0;34m\u001b[0m\u001b[0;34m\u001b[0m\u001b[0m\n\u001b[1;32m    866\u001b[0m       \u001b[0;31m# defunned version which is guaranteed to never create variables.\u001b[0m\u001b[0;34m\u001b[0m\u001b[0;34m\u001b[0m\u001b[0m\n\u001b[0;32m--> 867\u001b[0;31m       return tracing_compilation.call_function(\n\u001b[0m\u001b[1;32m    868\u001b[0m           \u001b[0margs\u001b[0m\u001b[0;34m,\u001b[0m \u001b[0mkwds\u001b[0m\u001b[0;34m,\u001b[0m \u001b[0mself\u001b[0m\u001b[0;34m.\u001b[0m\u001b[0m_no_variable_creation_config\u001b[0m\u001b[0;34m\u001b[0m\u001b[0;34m\u001b[0m\u001b[0m\n\u001b[1;32m    869\u001b[0m       )\n",
            "\u001b[0;32m/usr/local/lib/python3.10/dist-packages/tensorflow/python/eager/polymorphic_function/tracing_compilation.py\u001b[0m in \u001b[0;36mcall_function\u001b[0;34m(args, kwargs, tracing_options)\u001b[0m\n\u001b[1;32m    137\u001b[0m   \u001b[0mbound_args\u001b[0m \u001b[0;34m=\u001b[0m \u001b[0mfunction\u001b[0m\u001b[0;34m.\u001b[0m\u001b[0mfunction_type\u001b[0m\u001b[0;34m.\u001b[0m\u001b[0mbind\u001b[0m\u001b[0;34m(\u001b[0m\u001b[0;34m*\u001b[0m\u001b[0margs\u001b[0m\u001b[0;34m,\u001b[0m \u001b[0;34m**\u001b[0m\u001b[0mkwargs\u001b[0m\u001b[0;34m)\u001b[0m\u001b[0;34m\u001b[0m\u001b[0;34m\u001b[0m\u001b[0m\n\u001b[1;32m    138\u001b[0m   \u001b[0mflat_inputs\u001b[0m \u001b[0;34m=\u001b[0m \u001b[0mfunction\u001b[0m\u001b[0;34m.\u001b[0m\u001b[0mfunction_type\u001b[0m\u001b[0;34m.\u001b[0m\u001b[0munpack_inputs\u001b[0m\u001b[0;34m(\u001b[0m\u001b[0mbound_args\u001b[0m\u001b[0;34m)\u001b[0m\u001b[0;34m\u001b[0m\u001b[0;34m\u001b[0m\u001b[0m\n\u001b[0;32m--> 139\u001b[0;31m   return function._call_flat(  # pylint: disable=protected-access\n\u001b[0m\u001b[1;32m    140\u001b[0m       \u001b[0mflat_inputs\u001b[0m\u001b[0;34m,\u001b[0m \u001b[0mcaptured_inputs\u001b[0m\u001b[0;34m=\u001b[0m\u001b[0mfunction\u001b[0m\u001b[0;34m.\u001b[0m\u001b[0mcaptured_inputs\u001b[0m\u001b[0;34m\u001b[0m\u001b[0;34m\u001b[0m\u001b[0m\n\u001b[1;32m    141\u001b[0m   )\n",
            "\u001b[0;32m/usr/local/lib/python3.10/dist-packages/tensorflow/python/eager/polymorphic_function/concrete_function.py\u001b[0m in \u001b[0;36m_call_flat\u001b[0;34m(self, tensor_inputs, captured_inputs)\u001b[0m\n\u001b[1;32m   1262\u001b[0m         and executing_eagerly):\n\u001b[1;32m   1263\u001b[0m       \u001b[0;31m# No tape is watching; skip to running the function.\u001b[0m\u001b[0;34m\u001b[0m\u001b[0;34m\u001b[0m\u001b[0m\n\u001b[0;32m-> 1264\u001b[0;31m       \u001b[0;32mreturn\u001b[0m \u001b[0mself\u001b[0m\u001b[0;34m.\u001b[0m\u001b[0m_inference_function\u001b[0m\u001b[0;34m.\u001b[0m\u001b[0mflat_call\u001b[0m\u001b[0;34m(\u001b[0m\u001b[0margs\u001b[0m\u001b[0;34m)\u001b[0m\u001b[0;34m\u001b[0m\u001b[0;34m\u001b[0m\u001b[0m\n\u001b[0m\u001b[1;32m   1265\u001b[0m     forward_backward = self._select_forward_and_backward_functions(\n\u001b[1;32m   1266\u001b[0m         \u001b[0margs\u001b[0m\u001b[0;34m,\u001b[0m\u001b[0;34m\u001b[0m\u001b[0;34m\u001b[0m\u001b[0m\n",
            "\u001b[0;32m/usr/local/lib/python3.10/dist-packages/tensorflow/python/eager/polymorphic_function/atomic_function.py\u001b[0m in \u001b[0;36mflat_call\u001b[0;34m(self, args)\u001b[0m\n\u001b[1;32m    215\u001b[0m   \u001b[0;32mdef\u001b[0m \u001b[0mflat_call\u001b[0m\u001b[0;34m(\u001b[0m\u001b[0mself\u001b[0m\u001b[0;34m,\u001b[0m \u001b[0margs\u001b[0m\u001b[0;34m:\u001b[0m \u001b[0mSequence\u001b[0m\u001b[0;34m[\u001b[0m\u001b[0mcore\u001b[0m\u001b[0;34m.\u001b[0m\u001b[0mTensor\u001b[0m\u001b[0;34m]\u001b[0m\u001b[0;34m)\u001b[0m \u001b[0;34m->\u001b[0m \u001b[0mAny\u001b[0m\u001b[0;34m:\u001b[0m\u001b[0;34m\u001b[0m\u001b[0;34m\u001b[0m\u001b[0m\n\u001b[1;32m    216\u001b[0m     \u001b[0;34m\"\"\"Calls with tensor inputs and returns the structured output.\"\"\"\u001b[0m\u001b[0;34m\u001b[0m\u001b[0;34m\u001b[0m\u001b[0m\n\u001b[0;32m--> 217\u001b[0;31m     \u001b[0mflat_outputs\u001b[0m \u001b[0;34m=\u001b[0m \u001b[0mself\u001b[0m\u001b[0;34m(\u001b[0m\u001b[0;34m*\u001b[0m\u001b[0margs\u001b[0m\u001b[0;34m)\u001b[0m\u001b[0;34m\u001b[0m\u001b[0;34m\u001b[0m\u001b[0m\n\u001b[0m\u001b[1;32m    218\u001b[0m     \u001b[0;32mreturn\u001b[0m \u001b[0mself\u001b[0m\u001b[0;34m.\u001b[0m\u001b[0mfunction_type\u001b[0m\u001b[0;34m.\u001b[0m\u001b[0mpack_output\u001b[0m\u001b[0;34m(\u001b[0m\u001b[0mflat_outputs\u001b[0m\u001b[0;34m)\u001b[0m\u001b[0;34m\u001b[0m\u001b[0;34m\u001b[0m\u001b[0m\n\u001b[1;32m    219\u001b[0m \u001b[0;34m\u001b[0m\u001b[0m\n",
            "\u001b[0;32m/usr/local/lib/python3.10/dist-packages/tensorflow/python/eager/polymorphic_function/atomic_function.py\u001b[0m in \u001b[0;36m__call__\u001b[0;34m(self, *args)\u001b[0m\n\u001b[1;32m    250\u001b[0m         \u001b[0;32mwith\u001b[0m \u001b[0mrecord\u001b[0m\u001b[0;34m.\u001b[0m\u001b[0mstop_recording\u001b[0m\u001b[0;34m(\u001b[0m\u001b[0;34m)\u001b[0m\u001b[0;34m:\u001b[0m\u001b[0;34m\u001b[0m\u001b[0;34m\u001b[0m\u001b[0m\n\u001b[1;32m    251\u001b[0m           \u001b[0;32mif\u001b[0m \u001b[0mself\u001b[0m\u001b[0;34m.\u001b[0m\u001b[0m_bound_context\u001b[0m\u001b[0;34m.\u001b[0m\u001b[0mexecuting_eagerly\u001b[0m\u001b[0;34m(\u001b[0m\u001b[0;34m)\u001b[0m\u001b[0;34m:\u001b[0m\u001b[0;34m\u001b[0m\u001b[0;34m\u001b[0m\u001b[0m\n\u001b[0;32m--> 252\u001b[0;31m             outputs = self._bound_context.call_function(\n\u001b[0m\u001b[1;32m    253\u001b[0m                 \u001b[0mself\u001b[0m\u001b[0;34m.\u001b[0m\u001b[0mname\u001b[0m\u001b[0;34m,\u001b[0m\u001b[0;34m\u001b[0m\u001b[0;34m\u001b[0m\u001b[0m\n\u001b[1;32m    254\u001b[0m                 \u001b[0mlist\u001b[0m\u001b[0;34m(\u001b[0m\u001b[0margs\u001b[0m\u001b[0;34m)\u001b[0m\u001b[0;34m,\u001b[0m\u001b[0;34m\u001b[0m\u001b[0;34m\u001b[0m\u001b[0m\n",
            "\u001b[0;32m/usr/local/lib/python3.10/dist-packages/tensorflow/python/eager/context.py\u001b[0m in \u001b[0;36mcall_function\u001b[0;34m(self, name, tensor_inputs, num_outputs)\u001b[0m\n\u001b[1;32m   1477\u001b[0m     \u001b[0mcancellation_context\u001b[0m \u001b[0;34m=\u001b[0m \u001b[0mcancellation\u001b[0m\u001b[0;34m.\u001b[0m\u001b[0mcontext\u001b[0m\u001b[0;34m(\u001b[0m\u001b[0;34m)\u001b[0m\u001b[0;34m\u001b[0m\u001b[0;34m\u001b[0m\u001b[0m\n\u001b[1;32m   1478\u001b[0m     \u001b[0;32mif\u001b[0m \u001b[0mcancellation_context\u001b[0m \u001b[0;32mis\u001b[0m \u001b[0;32mNone\u001b[0m\u001b[0;34m:\u001b[0m\u001b[0;34m\u001b[0m\u001b[0;34m\u001b[0m\u001b[0m\n\u001b[0;32m-> 1479\u001b[0;31m       outputs = execute.execute(\n\u001b[0m\u001b[1;32m   1480\u001b[0m           \u001b[0mname\u001b[0m\u001b[0;34m.\u001b[0m\u001b[0mdecode\u001b[0m\u001b[0;34m(\u001b[0m\u001b[0;34m\"utf-8\"\u001b[0m\u001b[0;34m)\u001b[0m\u001b[0;34m,\u001b[0m\u001b[0;34m\u001b[0m\u001b[0;34m\u001b[0m\u001b[0m\n\u001b[1;32m   1481\u001b[0m           \u001b[0mnum_outputs\u001b[0m\u001b[0;34m=\u001b[0m\u001b[0mnum_outputs\u001b[0m\u001b[0;34m,\u001b[0m\u001b[0;34m\u001b[0m\u001b[0;34m\u001b[0m\u001b[0m\n",
            "\u001b[0;32m/usr/local/lib/python3.10/dist-packages/tensorflow/python/eager/execute.py\u001b[0m in \u001b[0;36mquick_execute\u001b[0;34m(op_name, num_outputs, inputs, attrs, ctx, name)\u001b[0m\n\u001b[1;32m     58\u001b[0m         \u001b[0;32mfor\u001b[0m \u001b[0mt\u001b[0m \u001b[0;32min\u001b[0m \u001b[0minputs\u001b[0m\u001b[0;34m\u001b[0m\u001b[0;34m\u001b[0m\u001b[0m\n\u001b[1;32m     59\u001b[0m     ]\n\u001b[0;32m---> 60\u001b[0;31m     tensors = pywrap_tfe.TFE_Py_Execute(ctx._handle, device_name, op_name,\n\u001b[0m\u001b[1;32m     61\u001b[0m                                         inputs, attrs, num_outputs)\n\u001b[1;32m     62\u001b[0m   \u001b[0;32mexcept\u001b[0m \u001b[0mcore\u001b[0m\u001b[0;34m.\u001b[0m\u001b[0m_NotOkStatusException\u001b[0m \u001b[0;32mas\u001b[0m \u001b[0me\u001b[0m\u001b[0;34m:\u001b[0m\u001b[0;34m\u001b[0m\u001b[0;34m\u001b[0m\u001b[0m\n",
            "\u001b[0;31mKeyboardInterrupt\u001b[0m: "
          ]
        }
      ]
    },
    {
      "cell_type": "markdown",
      "metadata": {
        "id": "sgJ7eI9PtZ5P"
      },
      "source": [
        "#Black & White Testing"
      ]
    },
    {
      "cell_type": "code",
      "execution_count": null,
      "metadata": {
        "id": "gLj_KwHyuJdQ"
      },
      "outputs": [],
      "source": [
        "import numpy as np\n",
        "from tensorflow import keras\n",
        "from tensorflow.keras import layers\n",
        "#input_shape = (-1,28,28)\n",
        "#input_shape = (28,28,1)\n",
        "\n",
        "\n",
        "model1bw = keras.Sequential(\n",
        "    [\n",
        "        layers.Conv2D(32, (3, 3), activation='relu', input_shape=(255, 255, 1)),\n",
        "        layers.MaxPooling2D(pool_size=(2, 2)),\n",
        "        layers.Conv2D(64, (3, 3), activation='relu'),\n",
        "        layers.MaxPooling2D((2, 2)),\n",
        "        layers.Flatten(),\n",
        "        layers.Dropout(0.5),\n",
        "        layers.Dense(num_classes, activation=\"sigmoid\"),\n",
        "    ]\n",
        ")\n",
        "\n",
        "model1.summary()"
      ]
    },
    {
      "cell_type": "code",
      "execution_count": null,
      "metadata": {
        "id": "xOrMGsypvGZX"
      },
      "outputs": [],
      "source": [
        "import numpy as np\n",
        "from tensorflow import keras\n",
        "from tensorflow.keras import layers\n",
        "\n",
        "model2bw = keras.Sequential(\n",
        "    [\n",
        "        layers.RandomFlip(\"horizontal\", input_shape=(255,255,1)),\n",
        "        layers.Conv2D(32, (3, 3), activation='relu', input_shape=(255, 255, 1)),\n",
        "        layers.MaxPooling2D(pool_size=(2, 2)),\n",
        "        layers.Conv2D(64, (3, 3), activation='relu'),\n",
        "        layers.MaxPooling2D((2, 2)),\n",
        "        layers.Conv2D(128, (3, 3), activation='relu', input_shape=(255, 255, 1)),\n",
        "        layers.MaxPooling2D(pool_size=(2, 2)),\n",
        "        layers.Conv2D(256, (3, 3), activation='relu'),\n",
        "        layers.MaxPooling2D((2, 2)),\n",
        "        layers.Flatten(),\n",
        "        layers.Dropout(0.5),\n",
        "        layers.Dense(num_classes, activation=\"sigmoid\"),\n",
        "    ]\n",
        ")\n",
        "\n",
        "\"\"\"model2bw.summary()\"\"\"\n"
      ]
    },
    {
      "cell_type": "code",
      "execution_count": null,
      "metadata": {
        "id": "5nDHPpIGvL1W"
      },
      "outputs": [],
      "source": [
        "import tensorflow as tf\n",
        "from keras.applications.vgg16 import VGG16\n",
        "from keras.models import Model\n",
        "from tensorflow.keras import layers\n",
        "# preprocess_input subtracts pixel mean values from the inputs,\n",
        "# which is what VGG16 expected\n",
        "from tensorflow.keras.applications.vgg16 import preprocess_input\n",
        "import tensorflow_datasets as tfds\n",
        "\n",
        "\n",
        "model3bw = VGG16(include_top=False, input_shape=(255, 255, 1)) # we'll replace the \"top\" with our own layers\n",
        "for layer in model3bw.layers:\n",
        "    layer.trainable = False  # these won't learn\n",
        "# add new classifier layers\n",
        "flat = layers.Flatten()(model3bw.layers[-1].output) # connect to last layer of VGG\n",
        "drop1 = layers.Dropout(0.5)(flat)\n",
        "cls = layers.Dense(128, activation='relu')(drop1)\n",
        "drop2 = layers.Dropout(0.5)(cls)\n",
        "output = layers.Dense(num_classes, activation=\"sigmoid\")(drop2)  #SIGMOID CHANGE\n",
        "# define new model\n",
        "model3bw = Model(inputs=model3bw.inputs, outputs=output)\n",
        "\n",
        "\n",
        "# compile model\n",
        "\n",
        "model3bw.compile(optimizer=\"adam\", loss='binary_crossentropy', metrics=['accuracy']) #BINARY CROSS CHANGE\n",
        "\n"
      ]
    },
    {
      "cell_type": "code",
      "execution_count": null,
      "metadata": {
        "id": "kcL8INTovxuE"
      },
      "outputs": [],
      "source": [
        "model4bw = keras.Sequential(\n",
        "    [\n",
        "        layers.Input(shape=(255, 255, 1)),\n",
        "        layers.RandomFlip(\"horizontal\"),\n",
        "        layers.Conv2D(32, (3, 3), activation='relu'),\n",
        "        layers.BatchNormalization(),\n",
        "        layers.MaxPooling2D(pool_size=(2, 2)),\n",
        "        layers.Conv2D(64, (3, 3), activation='relu'),\n",
        "        layers.BatchNormalization(),\n",
        "        layers.MaxPooling2D((2, 2)),\n",
        "        layers.Conv2D(128, (3, 3), activation='relu'),\n",
        "        layers.BatchNormalization(),\n",
        "        layers.MaxPooling2D(pool_size=(2, 2)),\n",
        "        layers.Conv2D(256, (3, 3), activation='relu'),\n",
        "        layers.BatchNormalization(),\n",
        "        layers.MaxPooling2D((2, 2)),\n",
        "        layers.Flatten(),\n",
        "        layers.Dropout(0.5),\n",
        "        layers.Dense(256, activation='relu'),\n",
        "        layers.Dense(num_classes, activation='sigmoid'),\n",
        "    ]\n",
        ")\n",
        "\n",
        "model4bw.summary()\n"
      ]
    },
    {
      "cell_type": "code",
      "execution_count": null,
      "metadata": {
        "id": "O_jqlPUow5jJ"
      },
      "outputs": [],
      "source": [
        "# running architecture 1\n",
        "batch_size = 128\n",
        "epochs = 15\n",
        "model1bw.compile(loss=\"binary_crossentropy\", optimizer=\"adam\", metrics=[\"accuracy\"])\n",
        "model1bw.fit(bw_x_train, bw_y_train, batch_size=batch_size, epochs=epochs, validation_split=0.1)"
      ]
    },
    {
      "cell_type": "code",
      "execution_count": null,
      "metadata": {
        "id": "zSai5Az3tlzX"
      },
      "outputs": [],
      "source": [
        "# running architecture 2, more epochs\n",
        "batch_size = 128\n",
        "epochs = 30\n",
        "model2bw.compile(loss=\"binary_crossentropy\", optimizer=\"adam\", metrics=[\"accuracy\"])\n",
        "model2bw.fit(bw_x_train, bw_y_train, batch_size=batch_size, epochs=epochs, validation_split=0.1)"
      ]
    },
    {
      "cell_type": "code",
      "execution_count": null,
      "metadata": {
        "id": "Jm6GvWl5ttnf"
      },
      "outputs": [],
      "source": [
        "model3bw.fit(bw_x_train, bw_y_train, batch_size=128, epochs=30, validation_split=0.1)"
      ]
    },
    {
      "cell_type": "code",
      "execution_count": null,
      "metadata": {
        "id": "af0jtOcatvcF"
      },
      "outputs": [],
      "source": [
        "batch_size = 128\n",
        "epochs = 15\n",
        "model4bw.compile(loss=\"binary_crossentropy\", optimizer=\"adam\", metrics=[\"accuracy\"])\n",
        "model4bw.fit(bw_x_train, bw_y_train, batch_size=batch_size, epochs=epochs, validation_split=0.1)"
      ]
    },
    {
      "cell_type": "markdown",
      "source": [
        "# Appendix"
      ],
      "metadata": {
        "id": "riy8Flk9Iths"
      }
    },
    {
      "cell_type": "code",
      "source": [
        "def HSV_convert(sample):\n",
        "  for url in sample:\n",
        "    image = io.imread(url)\n",
        "    hsv = cv.cvtColor(image, cv.COLOR_BGR2HSV)\n",
        "    cv2_imshow(hsv)\n",
        "def sampling(images):\n",
        "  for x in images:\n",
        "      image = x\n",
        "      cv2_imshow(image)\n",
        "def invert_img(sample):\n",
        "  for url in sample:\n",
        "    image = io.imread(url)\n",
        "    cv2_imshow(image)\n",
        "    image = ~image\n",
        "    cv2_imshow(image)\n",
        "def get_largest(images):\n",
        "  imageone = io.imread(images[0])\n",
        "  maxwidth =  imageone.shape[1]\n",
        "  maxheight = imageone.shape[0]\n",
        "  for x in (images):\n",
        "    image = io.imread(x)\n",
        "    width =  image.shape[1]\n",
        "    height = image.shape[0]\n",
        "    if width > maxwidth:\n",
        "        maxwidth = width\n",
        "    if height > maxheight:\n",
        "        maxheight = height\n",
        "  return maxwidth, maxheight\n",
        "def get_smallest(images):\n",
        "  imageone = io.imread(images[0])\n",
        "  minwidth =  imageone.shape[1]\n",
        "  minheight = imageone.shape[0]\n",
        "  for x in (images):\n",
        "    image = io.imread(x)\n",
        "    width =  image.shape[1]\n",
        "    height = image.shape[0]\n",
        "    if width < minwidth:\n",
        "        minwidth = width\n",
        "    if height < minheight:\n",
        "        minheight = height\n",
        "  return minwidth, minheight\n",
        "\n",
        "from pandas.core.frame import DataFrame\n",
        "from IPython.display import HTML\n",
        "def Create_Link(df):\n",
        "  i = 0\n",
        "  for x in range(len(df)):\n",
        "    input = df.loc[x, \"Image\"]\n",
        "    #index = df.loc[x, \"index\"]\n",
        "    html = f'<a href={input}>{i}</a>'\n",
        "    df = df.replace(input, html)\n",
        "    i += 1\n",
        "  return df\n"
      ],
      "metadata": {
        "id": "Qu514Q4vIx36"
      },
      "execution_count": null,
      "outputs": []
    }
  ],
  "metadata": {
    "colab": {
      "provenance": [],
      "collapsed_sections": [
        "7wNnHQ_V5vYG",
        "yQ6xl0Zf5QXW",
        "_6T-aQEt5Mkd",
        "riy8Flk9Iths"
      ],
      "gpuType": "T4",
      "include_colab_link": true
    },
    "kernelspec": {
      "display_name": "Python 3",
      "name": "python3"
    },
    "language_info": {
      "name": "python"
    },
    "accelerator": "GPU"
  },
  "nbformat": 4,
  "nbformat_minor": 0
}